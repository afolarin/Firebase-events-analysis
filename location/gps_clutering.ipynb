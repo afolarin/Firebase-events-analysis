{
 "cells": [
  {
   "cell_type": "code",
   "execution_count": 12,
   "metadata": {
    "collapsed": true,
    "pycharm": {
     "is_executing": false
    }
   },
   "outputs": [],
   "source": [
    "import glob\n",
    "\n",
    "import pandas as pd  # Dataframe manipulation\n",
    "import seaborn as sns\n",
    "import numpy as np"
   ]
  },
  {
   "cell_type": "markdown",
   "source": [
    "Load the data set for one participant"
   ],
   "metadata": {
    "collapsed": false,
    "pycharm": {
     "name": "#%% md\n"
    }
   }
  },
  {
   "cell_type": "code",
   "source": [
    "project_id = \"RADAR-MDD-KCL-s1\"\n",
    "subject_id = \"00d1d60a-15cf-481b-8264-91705b6f8d97\"\n",
    "data: pd.DataFrame = pd.concat(map(pd.read_csv, glob.glob(f\"work/data/relative-location/\"\n",
    "                                                          f\"{project_id}/{subject_id}/android_phone_relative_location\"\n",
    "                                                          f\"/*.csv.gz\")))"
   ],
   "metadata": {
    "collapsed": false,
    "pycharm": {
     "name": "#%%\n",
     "is_executing": false
    }
   },
   "execution_count": 13,
   "outputs": [
    {
     "name": "stderr",
     "text": [
      "/opt/conda/lib/python3.7/site-packages/ipykernel_launcher.py:3: FutureWarning: Sorting because non-concatenation axis is not aligned. A future version\nof pandas will change to not sort by default.\n\nTo accept the future behavior, pass 'sort=False'.\n\nTo retain the current behavior and silence the warning, pass 'sort=True'.\n\n  This is separate from the ipykernel package so we can avoid doing imports until\n"
     ],
     "output_type": "stream"
    }
   ]
  },
  {
   "cell_type": "markdown",
   "source": [
    "Describe the dataset"
   ],
   "metadata": {
    "collapsed": false,
    "pycharm": {
     "name": "#%% md\n"
    }
   }
  },
  {
   "cell_type": "code",
   "execution_count": 14,
   "outputs": [
    {
     "data": {
      "text/plain": "       value.accuracy  value.altitude  value.bearing  value.latitude  \\\ncount    18693.000000    15907.000000    3002.000000    18693.000000   \nmean       177.273973      185.040835     175.994524       50.250645   \nstd       3586.356010       52.536599     117.136087        0.189800   \nmin          0.800000     -117.100000       0.000000       48.258656   \n25%         18.600000      158.900010      65.742500       50.056745   \n50%         19.024000      226.900010     176.605000       50.383709   \n75%         20.088000      227.700010     287.310000       50.383732   \nmax     488276.970000      239.100000     359.860000       51.122476   \n\n       value.longitude  value.offsetReference  value.speed    value.time  \\\ncount     18693.000000                    0.0  3002.000000  1.869300e+04   \nmean         -0.928588                    NaN     0.110255  1.560726e+09   \nstd           0.937627                    NaN     1.002164  4.201757e+06   \nmin          -2.148165                    NaN     0.000000  1.554904e+09   \n25%          -2.070825                    NaN     0.000000  1.556152e+09   \n50%          -0.159983                    NaN     0.000000  1.561011e+09   \n75%          -0.159935                    NaN     0.000000  1.564424e+09   \nmax           1.911010                    NaN    18.469263  1.568155e+09   \n\n       value.timeReceived  \ncount        1.869300e+04  \nmean         1.560728e+09  \nstd          4.200161e+06  \nmin          1.554905e+09  \n25%          1.556152e+09  \n50%          1.561011e+09  \n75%          1.564424e+09  \nmax          1.568155e+09  ",
      "text/html": "<div>\n<style scoped>\n    .dataframe tbody tr th:only-of-type {\n        vertical-align: middle;\n    }\n\n    .dataframe tbody tr th {\n        vertical-align: top;\n    }\n\n    .dataframe thead th {\n        text-align: right;\n    }\n</style>\n<table border=\"1\" class=\"dataframe\">\n  <thead>\n    <tr style=\"text-align: right;\">\n      <th></th>\n      <th>value.accuracy</th>\n      <th>value.altitude</th>\n      <th>value.bearing</th>\n      <th>value.latitude</th>\n      <th>value.longitude</th>\n      <th>value.offsetReference</th>\n      <th>value.speed</th>\n      <th>value.time</th>\n      <th>value.timeReceived</th>\n    </tr>\n  </thead>\n  <tbody>\n    <tr>\n      <td>count</td>\n      <td>18693.000000</td>\n      <td>15907.000000</td>\n      <td>3002.000000</td>\n      <td>18693.000000</td>\n      <td>18693.000000</td>\n      <td>0.0</td>\n      <td>3002.000000</td>\n      <td>1.869300e+04</td>\n      <td>1.869300e+04</td>\n    </tr>\n    <tr>\n      <td>mean</td>\n      <td>177.273973</td>\n      <td>185.040835</td>\n      <td>175.994524</td>\n      <td>50.250645</td>\n      <td>-0.928588</td>\n      <td>NaN</td>\n      <td>0.110255</td>\n      <td>1.560726e+09</td>\n      <td>1.560728e+09</td>\n    </tr>\n    <tr>\n      <td>std</td>\n      <td>3586.356010</td>\n      <td>52.536599</td>\n      <td>117.136087</td>\n      <td>0.189800</td>\n      <td>0.937627</td>\n      <td>NaN</td>\n      <td>1.002164</td>\n      <td>4.201757e+06</td>\n      <td>4.200161e+06</td>\n    </tr>\n    <tr>\n      <td>min</td>\n      <td>0.800000</td>\n      <td>-117.100000</td>\n      <td>0.000000</td>\n      <td>48.258656</td>\n      <td>-2.148165</td>\n      <td>NaN</td>\n      <td>0.000000</td>\n      <td>1.554904e+09</td>\n      <td>1.554905e+09</td>\n    </tr>\n    <tr>\n      <td>25%</td>\n      <td>18.600000</td>\n      <td>158.900010</td>\n      <td>65.742500</td>\n      <td>50.056745</td>\n      <td>-2.070825</td>\n      <td>NaN</td>\n      <td>0.000000</td>\n      <td>1.556152e+09</td>\n      <td>1.556152e+09</td>\n    </tr>\n    <tr>\n      <td>50%</td>\n      <td>19.024000</td>\n      <td>226.900010</td>\n      <td>176.605000</td>\n      <td>50.383709</td>\n      <td>-0.159983</td>\n      <td>NaN</td>\n      <td>0.000000</td>\n      <td>1.561011e+09</td>\n      <td>1.561011e+09</td>\n    </tr>\n    <tr>\n      <td>75%</td>\n      <td>20.088000</td>\n      <td>227.700010</td>\n      <td>287.310000</td>\n      <td>50.383732</td>\n      <td>-0.159935</td>\n      <td>NaN</td>\n      <td>0.000000</td>\n      <td>1.564424e+09</td>\n      <td>1.564424e+09</td>\n    </tr>\n    <tr>\n      <td>max</td>\n      <td>488276.970000</td>\n      <td>239.100000</td>\n      <td>359.860000</td>\n      <td>51.122476</td>\n      <td>1.911010</td>\n      <td>NaN</td>\n      <td>18.469263</td>\n      <td>1.568155e+09</td>\n      <td>1.568155e+09</td>\n    </tr>\n  </tbody>\n</table>\n</div>"
     },
     "metadata": {},
     "output_type": "execute_result",
     "execution_count": 14
    }
   ],
   "source": [
    "description = data.describe()\n",
    "description"
   ],
   "metadata": {
    "collapsed": false,
    "pycharm": {
     "name": "#%%\n",
     "is_executing": false
    }
   }
  },
  {
   "cell_type": "markdown",
   "source": [
    "Data Pre processing. Remove any outliers. like very high accuracy values.\n",
    "Drop columns that are not relevant and some time manipulations."
   ],
   "metadata": {
    "collapsed": false,
    "pycharm": {
     "name": "#%% md\n"
    }
   }
  },
  {
   "cell_type": "code",
   "execution_count": 15,
   "outputs": [
    {
     "data": {
      "text/plain": "       value.accuracy  value.altitude  value.latitude  value.longitude  \\\ncount    15828.000000    15802.000000    15828.000000     15828.000000   \nmean        16.383433      184.840961       50.233850        -1.011866   \nstd          6.203045       52.555233        0.181574         0.953406   \nmin          0.800000     -117.100000       48.258656        -2.148165   \n25%         18.490750      158.900010       50.056743        -2.070834   \n50%         18.913500      226.800000       50.383710        -0.159989   \n75%         19.400000      227.700010       50.383729        -0.159943   \nmax         37.560000      229.600000       50.734809         1.911010   \n\n         value.time         value.timeOfDay  \ncount  1.582800e+04                   15828  \nmean   1.560381e+09  0 days 12:52:10.176734  \nstd    4.193256e+06  0 days 06:54:19.981222  \nmin    1.554904e+09  0 days 00:00:00.769999  \n25%    1.556052e+09  0 days 07:45:13.342250  \n50%    1.560455e+09  0 days 13:13:31.513000  \n75%    1.564129e+09  0 days 18:37:59.612999  \nmax    1.568155e+09         0 days 23:59:36  ",
      "text/html": "<div>\n<style scoped>\n    .dataframe tbody tr th:only-of-type {\n        vertical-align: middle;\n    }\n\n    .dataframe tbody tr th {\n        vertical-align: top;\n    }\n\n    .dataframe thead th {\n        text-align: right;\n    }\n</style>\n<table border=\"1\" class=\"dataframe\">\n  <thead>\n    <tr style=\"text-align: right;\">\n      <th></th>\n      <th>value.accuracy</th>\n      <th>value.altitude</th>\n      <th>value.latitude</th>\n      <th>value.longitude</th>\n      <th>value.time</th>\n      <th>value.timeOfDay</th>\n    </tr>\n  </thead>\n  <tbody>\n    <tr>\n      <td>count</td>\n      <td>15828.000000</td>\n      <td>15802.000000</td>\n      <td>15828.000000</td>\n      <td>15828.000000</td>\n      <td>1.582800e+04</td>\n      <td>15828</td>\n    </tr>\n    <tr>\n      <td>mean</td>\n      <td>16.383433</td>\n      <td>184.840961</td>\n      <td>50.233850</td>\n      <td>-1.011866</td>\n      <td>1.560381e+09</td>\n      <td>0 days 12:52:10.176734</td>\n    </tr>\n    <tr>\n      <td>std</td>\n      <td>6.203045</td>\n      <td>52.555233</td>\n      <td>0.181574</td>\n      <td>0.953406</td>\n      <td>4.193256e+06</td>\n      <td>0 days 06:54:19.981222</td>\n    </tr>\n    <tr>\n      <td>min</td>\n      <td>0.800000</td>\n      <td>-117.100000</td>\n      <td>48.258656</td>\n      <td>-2.148165</td>\n      <td>1.554904e+09</td>\n      <td>0 days 00:00:00.769999</td>\n    </tr>\n    <tr>\n      <td>25%</td>\n      <td>18.490750</td>\n      <td>158.900010</td>\n      <td>50.056743</td>\n      <td>-2.070834</td>\n      <td>1.556052e+09</td>\n      <td>0 days 07:45:13.342250</td>\n    </tr>\n    <tr>\n      <td>50%</td>\n      <td>18.913500</td>\n      <td>226.800000</td>\n      <td>50.383710</td>\n      <td>-0.159989</td>\n      <td>1.560455e+09</td>\n      <td>0 days 13:13:31.513000</td>\n    </tr>\n    <tr>\n      <td>75%</td>\n      <td>19.400000</td>\n      <td>227.700010</td>\n      <td>50.383729</td>\n      <td>-0.159943</td>\n      <td>1.564129e+09</td>\n      <td>0 days 18:37:59.612999</td>\n    </tr>\n    <tr>\n      <td>max</td>\n      <td>37.560000</td>\n      <td>229.600000</td>\n      <td>50.734809</td>\n      <td>1.911010</td>\n      <td>1.568155e+09</td>\n      <td>0 days 23:59:36</td>\n    </tr>\n  </tbody>\n</table>\n</div>"
     },
     "metadata": {},
     "output_type": "execute_result",
     "execution_count": 15
    }
   ],
   "source": [
    "data_clean = data.drop(columns=['value.offsetReference', 'value.bearing', 'value.speed', 'value.timeReceived',\n",
    "                                'key.projectId' , 'key.sourceId'])\n",
    "data_clean = data_clean[\n",
    "    data_clean['value.accuracy'] < \n",
    "    description['value.accuracy']['75%'] + description['value.accuracy']['50%']]\n",
    "\n",
    "data_clean = data_clean[data_clean['value.accuracy'] < 100]\n",
    "\n",
    "def get_time_of_day(event_time, timezone_offset_in_seconds=0):\n",
    "    if event_time is not None:\n",
    "        event_time = pd.Timestamp(event_time, unit='s') + pd.Timedelta(seconds=timezone_offset_in_seconds)\n",
    "        y = event_time - event_time.normalize()\n",
    "        return y\n",
    "    else:\n",
    "        return np.NaN\n",
    "# TODO: Get the timezone offset from application_timezone values\n",
    "data_clean['value.timeOfDay'] = data_clean['value.time']\\\n",
    "    .apply(lambda x: get_time_of_day(x, 3600))\n",
    "\n",
    "night_max_time_delta = pd.Timedelta(days=0, hours=6)\n",
    "night_min_time_delta = pd.Timedelta(days=0, hours=0, minutes=1)\n",
    "data_clean['value.isNight'] = data_clean['value.timeOfDay']\\\n",
    "    .apply(lambda x: night_max_time_delta > x >= night_min_time_delta)\n",
    "\n",
    "data_clean.describe()"
   ],
   "metadata": {
    "collapsed": false,
    "pycharm": {
     "name": "#%%\n",
     "is_executing": false
    }
   }
  },
  {
   "cell_type": "code",
   "execution_count": 16,
   "outputs": [
    {
     "data": {
      "text/plain": "key.userId                  object\nvalue.accuracy             float64\nvalue.altitude             float64\nvalue.latitude             float64\nvalue.longitude            float64\nvalue.provider              object\nvalue.time                 float64\nvalue.timeOfDay    timedelta64[ns]\nvalue.isNight                 bool\ndtype: object"
     },
     "metadata": {},
     "output_type": "execute_result",
     "execution_count": 16
    }
   ],
   "source": [
    "data_clean.dtypes"
   ],
   "metadata": {
    "collapsed": false,
    "pycharm": {
     "name": "#%%\n",
     "is_executing": false
    }
   }
  },
  {
   "cell_type": "code",
   "execution_count": 17,
   "outputs": [
    {
     "data": {
      "text/plain": "key.userId         2810\nvalue.accuracy     2810\nvalue.altitude     2810\nvalue.latitude     2810\nvalue.longitude    2810\nvalue.provider     2810\nvalue.time         2810\nvalue.timeOfDay    2810\nvalue.isNight      2810\ndtype: int64"
     },
     "metadata": {},
     "output_type": "execute_result",
     "execution_count": 17
    }
   ],
   "source": [
    "data_clean.head()\n",
    "data_clean[data_clean['value.isNight'] == True].count()"
   ],
   "metadata": {
    "collapsed": false,
    "pycharm": {
     "name": "#%%\n",
     "is_executing": false
    }
   }
  },
  {
   "cell_type": "markdown",
   "source": [
    "Find correlation between data and plot it as a heatmap"
   ],
   "metadata": {
    "collapsed": false,
    "pycharm": {
     "name": "#%% md\n"
    }
   }
  },
  {
   "cell_type": "code",
   "execution_count": 21,
   "outputs": [
    {
     "data": {
      "text/plain": "<matplotlib.axes._subplots.AxesSubplot at 0x7fcd18de15f8>"
     },
     "metadata": {},
     "output_type": "execute_result",
     "execution_count": 21
    },
    {
     "data": {
      "text/plain": "<Figure size 432x288 with 2 Axes>",
      "image/png": "[encoded data removed]"
     },
     "metadata": {
      "needs_background": "light"
     },
     "output_type": "display_data"
    }
   ],
   "source": [
    "corr = data_clean.corr(method='pearson')\n",
    "sns.heatmap(corr)"
   ],
   "metadata": {
    "collapsed": false,
    "pycharm": {
     "name": "#%%\n",
     "is_executing": false
    }
   }
  },
  {
   "cell_type": "markdown",
   "source": [
    "Plot it as a scatter plot colouring the isNight categorical variable."
   ],
   "metadata": {
    "collapsed": false,
    "pycharm": {
     "name": "#%% md\n"
    }
   }
  },
  {
   "cell_type": "code",
   "execution_count": 22,
   "outputs": [
    {
     "data": {
      "text/plain": "<matplotlib.axes._subplots.AxesSubplot at 0x7fcd18bcb9e8>"
     },
     "metadata": {},
     "output_type": "execute_result",
     "execution_count": 22
    },
    {
     "data": {
      "text/plain": "<Figure size 432x288 with 1 Axes>",
      "image/png": "[encoded data removed]"
     },
     "metadata": {
      "needs_background": "light"
     },
     "output_type": "display_data"
    }
   ],
   "source": [
    "sns.scatterplot(data = data_clean, x = 'value.latitude', y = 'value.longitude', hue='value.isNight')"
   ],
   "metadata": {
    "collapsed": false,
    "pycharm": {
     "name": "#%%\n",
     "is_executing": false
    }
   }
  },
  {
   "cell_type": "markdown",
   "source": [
    "Do k-Means clustering with K=3 (Home, Work, Other)"
   ],
   "metadata": {
    "collapsed": false,
    "pycharm": {
     "name": "#%% md\n"
    }
   }
  },
  {
   "cell_type": "code",
   "execution_count": 11,
   "outputs": [],
   "source": [
    "from sklearn.cluster import KMeans\n",
    "\n",
    "#K means Clustering \n",
    "def doKmeans(X: pd.DataFrame, nclust=2, sample_weight=None):\n",
    "    model = KMeans(nclust)\n",
    "    \n",
    "    model.fit(X, sample_weight=sample_weight) if(weights is not None) else model.fit(X)\n",
    "    clust_labels = model.predict(X)\n",
    "    cent = model.cluster_centers_\n",
    "    return (clust_labels, cent)\n",
    "\n",
    "weights = data_clean['value.isNight'].apply(lambda x: 500 if(x == True) else 1)\n",
    "clust_labels, cent = doKmeans(data_clean[['value.latitude', 'value.longitude']], 3, weights)\n",
    "kmeans = pd.DataFrame(clust_labels)\n",
    "data_clean['kmeans'] = kmeans"
   ],
   "metadata": {
    "collapsed": false,
    "pycharm": {
     "name": "#%%\n",
     "is_executing": false
    }
   }
  },
  {
   "cell_type": "markdown",
   "source": [
    "Plot the clusters obtained using k-means"
   ],
   "metadata": {
    "collapsed": false,
    "pycharm": {
     "name": "#%% md\n"
    }
   }
  },
  {
   "cell_type": "code",
   "execution_count": 12,
   "outputs": [
    {
     "data": {
      "text/plain": "<matplotlib.colorbar.Colorbar at 0x1189c99e8>"
     },
     "metadata": {},
     "output_type": "execute_result",
     "execution_count": 12
    },
    {
     "data": {
      "text/plain": "<Figure size 432x288 with 2 Axes>",
      "image/png": "[encoded data removed]"
     },
     "metadata": {
      "needs_background": "light"
     },
     "output_type": "display_data"
    }
   ],
   "source": [
    "import matplotlib.pyplot as plt\n",
    "\n",
    "fig = plt.figure()\n",
    "ax = fig.add_subplot(111)\n",
    "scatter = ax.scatter(data_clean['value.latitude'],data_clean['value.longitude'],\n",
    "                     c=kmeans[0],s=50)\n",
    "ax.set_title('K-Means Clustering')\n",
    "ax.set_xlabel('latitude')\n",
    "ax.set_ylabel('longitude')\n",
    "plt.colorbar(scatter)"
   ],
   "metadata": {
    "collapsed": false,
    "pycharm": {
     "name": "#%%\n",
     "is_executing": false
    }
   }
  }
 ],
 "metadata": {
  "kernelspec": {
   "display_name": "Python 3",
   "language": "python",
   "name": "python3"
  },
  "language_info": {
   "codemirror_mode": {
    "name": "ipython",
    "version": 2
   },
   "file_extension": ".py",
   "mimetype": "text/x-python",
   "name": "python",
   "nbconvert_exporter": "python",
   "pygments_lexer": "ipython2",
   "version": "2.7.6"
  },
  "pycharm": {
   "stem_cell": {
    "cell_type": "raw",
    "source": [],
    "metadata": {
     "collapsed": false
    }
   }
  }
 },
 "nbformat": 4,
 "nbformat_minor": 0
}