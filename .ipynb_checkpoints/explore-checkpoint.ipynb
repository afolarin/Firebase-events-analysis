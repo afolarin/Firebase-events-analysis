{
 "cells": [
  {
   "cell_type": "markdown",
   "metadata": {},
   "source": [
    "First `import` the dependencies. We are using dask distributed client to run the program on dask worker nodes. Edit the `dask_client.py` file to change the options for the dask scheduler"
   ]
  },
  {
   "cell_type": "code",
   "execution_count": 10,
   "metadata": {},
   "outputs": [],
   "source": [
    "#!/usr/bin/env python3\n",
    "\n",
    "import dask.dataframe as df\n",
    "import dask_client as dc"
   ]
  },
  {
   "cell_type": "markdown",
   "metadata": {},
   "source": [
    "Next we read the bigquery export from the json file."
   ]
  },
  {
   "cell_type": "code",
   "execution_count": 46,
   "metadata": {},
   "outputs": [],
   "source": [
    "def read_json_as_dataframe(path):\n",
    "    return df.read_json(path, blocksize=2**28)\n",
    "\n",
    "dc.run_client()\n",
    "json_data = read_json_as_dataframe('data/json/bq-results-20190611.json')"
   ]
  },
  {
   "cell_type": "markdown",
   "metadata": {},
   "source": [
    "Now lets explore and see the data types and print the head"
   ]
  },
  {
   "cell_type": "code",
   "execution_count": 47,
   "metadata": {
    "scrolled": false
   },
   "outputs": [
    {
     "name": "stdout",
     "output_type": "stream",
     "text": [
      "                                            app_info  \\\n",
      "0  {'id': 'org.phidatalab.radar_armt', 'version':...   \n",
      "1  {'id': 'org.phidatalab.radar_armt', 'version':...   \n",
      "2  {'id': 'org.phidatalab.radar_armt', 'version':...   \n",
      "3  {'id': 'org.phidatalab.radar_armt', 'version':...   \n",
      "4  {'id': 'org.phidatalab.radar_armt', 'version':...   \n",
      "\n",
      "                                              device  \\\n",
      "0  {'category': 'mobile', 'mobile_brand_name': 'S...   \n",
      "1  {'category': 'mobile', 'mobile_brand_name': 'S...   \n",
      "2  {'category': 'mobile', 'mobile_brand_name': 'S...   \n",
      "3  {'category': 'mobile', 'mobile_brand_name': 'S...   \n",
      "4  {'category': 'mobile', 'mobile_brand_name': 'S...   \n",
      "\n",
      "                 event_name  \\\n",
      "0  notification_rescheduled   \n",
      "1     prepared_kafka_object   \n",
      "2     prepared_kafka_object   \n",
      "3             send_to_cache   \n",
      "4             send_to_cache   \n",
      "\n",
      "                                        event_params  \\\n",
      "0  [{'key': 'firebase_screen_class', 'value': {'s...   \n",
      "1  [{'key': 'firebase_screen_class', 'value': {'s...   \n",
      "2  [{'key': 'firebase_screen_class', 'value': {'s...   \n",
      "3  [{'key': 'firebase_screen_class', 'value': {'s...   \n",
      "4  [{'key': 'firebase_screen_class', 'value': {'s...   \n",
      "\n",
      "   event_previous_timestamp  event_server_timestamp_offset   event_timestamp  \\\n",
      "0              1.557915e+15                         226492  1558642464691001   \n",
      "1              1.557915e+15                         226492  1558642465541002   \n",
      "2              1.558642e+15                         226492  1558642465544003   \n",
      "3              1.557915e+15                         226492  1558642465551004   \n",
      "4              1.558642e+15                         226492  1558642465555005   \n",
      "\n",
      "                                                 geo  \\\n",
      "0  {'continent': 'Europe', 'country': 'Italy', 'r...   \n",
      "1  {'continent': 'Europe', 'country': 'Italy', 'r...   \n",
      "2  {'continent': 'Europe', 'country': 'Italy', 'r...   \n",
      "3  {'continent': 'Europe', 'country': 'Italy', 'r...   \n",
      "4  {'continent': 'Europe', 'country': 'Italy', 'r...   \n",
      "\n",
      "   user_first_touch_timestamp  \\\n",
      "0            1554974912733000   \n",
      "1            1554974912733000   \n",
      "2            1554974912733000   \n",
      "3            1554974912733000   \n",
      "4            1554974912733000   \n",
      "\n",
      "                                     user_properties  \\\n",
      "0  [{'key': 'projectId', 'value': {'string_value'...   \n",
      "1  [{'key': 'projectId', 'value': {'string_value'...   \n",
      "2  [{'key': 'projectId', 'value': {'string_value'...   \n",
      "3  [{'key': 'projectId', 'value': {'string_value'...   \n",
      "4  [{'key': 'projectId', 'value': {'string_value'...   \n",
      "\n",
      "                     user_pseudo_id  \n",
      "0  e90f9e199b8dd4f8756f46e29bc9934b  \n",
      "1  e90f9e199b8dd4f8756f46e29bc9934b  \n",
      "2  e90f9e199b8dd4f8756f46e29bc9934b  \n",
      "3  e90f9e199b8dd4f8756f46e29bc9934b  \n",
      "4  e90f9e199b8dd4f8756f46e29bc9934b  \n",
      "app_info                          object\n",
      "device                            object\n",
      "event_name                        object\n",
      "event_params                      object\n",
      "event_previous_timestamp         float64\n",
      "event_server_timestamp_offset      int64\n",
      "event_timestamp                    int64\n",
      "geo                               object\n",
      "user_first_touch_timestamp         int64\n",
      "user_properties                   object\n",
      "user_pseudo_id                    object\n",
      "dtype: object\n"
     ]
    }
   ],
   "source": [
    "print(json_data.head())\n",
    "print(json_data.dtypes)"
   ]
  },
  {
   "cell_type": "markdown",
   "metadata": {},
   "source": [
    "Print the column names"
   ]
  },
  {
   "cell_type": "code",
   "execution_count": 49,
   "metadata": {},
   "outputs": [
    {
     "data": {
      "text/plain": [
       "Index(['app_info', 'device', 'event_name', 'event_params',\n",
       "       'event_previous_timestamp', 'event_server_timestamp_offset',\n",
       "       'event_timestamp', 'geo', 'user_first_touch_timestamp',\n",
       "       'user_properties', 'user_pseudo_id'],\n",
       "      dtype='object')"
      ]
     },
     "execution_count": 49,
     "metadata": {},
     "output_type": "execute_result"
    }
   ],
   "source": [
    "json_data.columns"
   ]
  },
  {
   "cell_type": "code",
   "execution_count": 50,
   "metadata": {
    "scrolled": true
   },
   "outputs": [],
   "source": [
    "unique_users = json_data.user_pseudo_id.unique()"
   ]
  },
  {
   "cell_type": "code",
   "execution_count": 34,
   "metadata": {},
   "outputs": [
    {
     "data": {
      "text/plain": [
       "604"
      ]
     },
     "execution_count": 34,
     "metadata": {},
     "output_type": "execute_result"
    }
   ],
   "source": [
    "len(unique_users)"
   ]
  },
  {
   "cell_type": "code",
   "execution_count": 68,
   "metadata": {},
   "outputs": [],
   "source": [
    "def sort_and_group(sort_by, group_by):\n",
    "    return json_data.set_index('user_first_touch_timestamp').groupby('user_pseudo_id')"
   ]
  },
  {
   "cell_type": "code",
   "execution_count": 72,
   "metadata": {},
   "outputs": [],
   "source": [
    "count_per_user = sort_and_group('user_first_touch_timestamp','user_pseudo_id')['event_timestamp', 'event_name', 'user_first_touch_timestamp'].count()"
   ]
  },
  {
   "cell_type": "code",
   "execution_count": 73,
   "metadata": {},
   "outputs": [
    {
     "data": {
      "text/html": [
       "<div>\n",
       "<style scoped>\n",
       "    .dataframe tbody tr th:only-of-type {\n",
       "        vertical-align: middle;\n",
       "    }\n",
       "\n",
       "    .dataframe tbody tr th {\n",
       "        vertical-align: top;\n",
       "    }\n",
       "\n",
       "    .dataframe thead th {\n",
       "        text-align: right;\n",
       "    }\n",
       "</style>\n",
       "<table border=\"1\" class=\"dataframe\">\n",
       "  <thead>\n",
       "    <tr style=\"text-align: right;\">\n",
       "      <th></th>\n",
       "      <th>event_timestamp</th>\n",
       "      <th>event_name</th>\n",
       "    </tr>\n",
       "    <tr>\n",
       "      <th>user_pseudo_id</th>\n",
       "      <th></th>\n",
       "      <th></th>\n",
       "    </tr>\n",
       "  </thead>\n",
       "  <tbody>\n",
       "    <tr>\n",
       "      <th>0008d60a89e601ba524343f9f2eb5e32</th>\n",
       "      <td>77</td>\n",
       "      <td>77</td>\n",
       "    </tr>\n",
       "    <tr>\n",
       "      <th>01d050c00b17e49a5c4cd5c2e7c73a08</th>\n",
       "      <td>17</td>\n",
       "      <td>17</td>\n",
       "    </tr>\n",
       "    <tr>\n",
       "      <th>021bfa46ec021087f7e0b28e18132da7</th>\n",
       "      <td>5</td>\n",
       "      <td>5</td>\n",
       "    </tr>\n",
       "    <tr>\n",
       "      <th>0281e1c31adf798f9b875fe8d3ec9cbf</th>\n",
       "      <td>25</td>\n",
       "      <td>25</td>\n",
       "    </tr>\n",
       "    <tr>\n",
       "      <th>02dda139de186dfe9cae87f9fa0c97d0</th>\n",
       "      <td>68</td>\n",
       "      <td>68</td>\n",
       "    </tr>\n",
       "  </tbody>\n",
       "</table>\n",
       "</div>"
      ],
      "text/plain": [
       "                                  event_timestamp  event_name\n",
       "user_pseudo_id                                               \n",
       "0008d60a89e601ba524343f9f2eb5e32               77          77\n",
       "01d050c00b17e49a5c4cd5c2e7c73a08               17          17\n",
       "021bfa46ec021087f7e0b28e18132da7                5           5\n",
       "0281e1c31adf798f9b875fe8d3ec9cbf               25          25\n",
       "02dda139de186dfe9cae87f9fa0c97d0               68          68"
      ]
     },
     "execution_count": 73,
     "metadata": {},
     "output_type": "execute_result"
    }
   ],
   "source": [
    "count_per_user.head()"
   ]
  },
  {
   "cell_type": "code",
   "execution_count": 48,
   "metadata": {},
   "outputs": [],
   "source": [
    "%matplotlib inline\n",
    "import matplotlib.pyplot as plt"
   ]
  },
  {
   "cell_type": "code",
   "execution_count": null,
   "metadata": {},
   "outputs": [],
   "source": []
  },
  {
   "cell_type": "code",
   "execution_count": null,
   "metadata": {},
   "outputs": [],
   "source": []
  }
 ],
 "metadata": {
  "kernelspec": {
   "display_name": "Python 3",
   "language": "python",
   "name": "python3"
  },
  "language_info": {
   "codemirror_mode": {
    "name": "ipython",
    "version": 3
   },
   "file_extension": ".py",
   "mimetype": "text/x-python",
   "name": "python",
   "nbconvert_exporter": "python",
   "pygments_lexer": "ipython3",
   "version": "3.7.1"
  }
 },
 "nbformat": 4,
 "nbformat_minor": 2
}
