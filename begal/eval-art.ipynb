{
 "cells": [
  {
   "cell_type": "markdown",
   "metadata": {
    "collapsed": true,
    "pycharm": {
     "name": "#%% md\n"
    }
   },
   "source": [
    "Import required packages\n"
   ]
  },
  {
   "cell_type": "code",
   "execution_count": 15,
   "outputs": [],
   "source": [
    "import pandas as pd\n",
    "import os\n",
    "import datetime\n",
    "\n",
    "\n",
    "#init vars needed globally\n",
    "#start = format_datetime(datetime.datetime.now() - datetime.timedelta(days=200))   #date diff start\n",
    "start = \"20191130\"   #hardcoded start date for first RADAR-CNS data\n",
    "end = \"20210628\"  #let's hardcode this so it's unambiguous\n",
    "datadir = f'../data/{start}-{end}'"
   ],
   "metadata": {
    "collapsed": false,
    "pycharm": {
     "name": "#%%\n"
    }
   }
  },
  {
   "cell_type": "code",
   "execution_count": 18,
   "outputs": [
    {
     "name": "stdout",
     "output_type": "stream",
     "text": [
      "cwd /home/afolarinbrc/PycharmProjects/Firebase-events-analysis/begal\n"
     ]
    }
   ],
   "source": [
    "print (\"cwd \" + os.getcwd())\n",
    "#art_df = pd.read_csv(f'{datadir}/RADAR-ART-KCL-s1.csv', parse_dates=True, date_parser=pd.to_datetime, index_col='index')\n",
    "#kcl_df = pd.read_csv(f'{datadir}/RADAR-MDD-KCL-s1.csv', parse_dates=True, date_parser=pd.to_datetime, index_col='index')\n",
    "processed_df = pd.read_csv(f'{datadir}/processed-data.csv', parse_dates=True, date_parser=pd.to_datetime, index_col='index')"
   ],
   "metadata": {
    "collapsed": false,
    "pycharm": {
     "name": "#%%\n"
    }
   }
  },
  {
   "cell_type": "code",
   "execution_count": 29,
   "outputs": [],
   "source": [
    "#first check if some of the timestamps / users from the query exist in the processed data -- i.e. has the processing pipeline worked as expected\n",
    "\n",
    "check_timestamp_exists = processed_df[processed_df.event_timestamp == '1598049217666008']\n",
    "check_user_exists = processed_df[processed_df.user_pseudo_id == 'f9d354592a22c534b2f91283aa2e0139']\n",
    "check_both = processed_df[(processed_df.user_pseudo_id == 'f9d354592a22c534b2f91283aa2e0139') & (processed_df.event_timestamp == '1598049217666008')]\n",
    "check_both2= processed_df[(processed_df.user_pseudo_id == 'f9d354592a22c534b2f91283aa2e0139') & (processed_df.event_date == '20200821')]\n",
    "check_both3= processed_df[(processed_df.user_pseudo_id == 'f9d354592a22c534b2f91283aa2e0139') & (processed_df.event_date == '20200821')]"
   ],
   "metadata": {
    "collapsed": false,
    "pycharm": {
     "name": "#%%\n"
    }
   }
  }
 ],
 "metadata": {
  "kernelspec": {
   "display_name": "Python 3",
   "language": "python",
   "name": "python3"
  },
  "language_info": {
   "codemirror_mode": {
    "name": "ipython",
    "version": 2
   },
   "file_extension": ".py",
   "mimetype": "text/x-python",
   "name": "python",
   "nbconvert_exporter": "python",
   "pygments_lexer": "ipython2",
   "version": "2.7.6"
  }
 },
 "nbformat": 4,
 "nbformat_minor": 0
}