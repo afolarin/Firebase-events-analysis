{
 "cells": [
  {
   "cell_type": "markdown",
   "metadata": {
    "pycharm": {
     "name": "#%% md\n"
    }
   },
   "source": [
    "Import required packages\n"
   ]
  },
  {
   "cell_type": "code",
   "execution_count": 1,
   "metadata": {},
   "outputs": [],
   "source": [
    "import pandas as pd\n",
    "import os\n",
    "import datetime\n",
    "import pyarrow\n"
   ]
  },
  {
   "cell_type": "code",
   "execution_count": 2,
   "metadata": {
    "pycharm": {
     "name": "#%%\n"
    }
   },
   "outputs": [],
   "source": [
    "def get_query(table_name: str, start_date: str, end_date: str) -> str:\n",
    "    return f\"\"\"\n",
    "        SELECT \n",
    "         event_date,\n",
    "         event_timestamp, \n",
    "         event_name, \n",
    "         event_parameters.key AS event_param_key, \n",
    "         event_parameters.value.int_value AS event_param_int, \n",
    "         event_parameters.value.string_value AS event_param_string,\n",
    "         user_pseudo_id, \n",
    "         user_prop.key AS user_prop_key, \n",
    "         user_prop.value.string_value AS user_prop_string\n",
    "        FROM\n",
    "         `{table_name}` as T,\n",
    "          UNNEST(user_properties) AS user_prop,\n",
    "          UNNEST(event_params) AS event_parameters\n",
    "        WHERE \n",
    "          _TABLE_SUFFIX BETWEEN \"{start_date}\" AND \"{end_date}\"\n",
    "          AND ((event_name = \"user_engagement\" AND event_parameters.key = \"engagement_time_msec\") OR (event_name = \"notification_receive\") OR event_name = \"notification_open\")\n",
    "          AND (user_prop.key = \"subjectId\" OR user_prop.key = \"projectId\")\n",
    "    \"\"\""
   ]
  },
  {
   "cell_type": "code",
   "execution_count": 3,
   "metadata": {
    "pycharm": {
     "name": "#%%\n"
    }
   },
   "outputs": [],
   "source": [
    "\n",
    "def get_list_of_studies(query_result: pd.DataFrame):\n",
    "    return query_result[query_result['user_prop_key'] == 'projectId'][['user_pseudo_id', 'user_prop_string']]\n",
    "\n",
    "\n",
    "def write_to_csv_file(filename: str, filepath: str, data: pd.DataFrame):\n",
    "    os.makedirs(filepath, exist_ok=True)\n",
    "    with open(os.path.join(filepath, filename), 'w') as f:\n",
    "        f.write(data.to_csv(index_label='index'))\n",
    "    print('Written to File successfully.')\n"
   ]
  },
  {
   "cell_type": "code",
   "execution_count": 5,
   "metadata": {
    "pycharm": {
     "name": "#%%\n"
    }
   },
   "outputs": [
    {
     "name": "stderr",
     "output_type": "stream",
     "text": [
      "ERROR:root:No traceback has been produced, nothing to debug.\n"
     ]
    }
   ],
   "source": [
    "def format_datetime(obj: datetime) -> str:\n",
    "    return obj.strftime('%Y%m%d')"
   ]
  },
  {
   "cell_type": "code",
   "execution_count": 1,
   "outputs": [
    {
     "ename": "NameError",
     "evalue": "name 'format_datetime' is not defined",
     "output_type": "error",
     "traceback": [
      "\u001B[0;31m---------------------------------------------------------------------------\u001B[0m",
      "\u001B[0;31mNameError\u001B[0m                                 Traceback (most recent call last)",
      "\u001B[0;32m<ipython-input-1-94aa25919f6f>\u001B[0m in \u001B[0;36m<module>\u001B[0;34m\u001B[0m\n\u001B[1;32m      2\u001B[0m \u001B[0;31m#start = format_datetime(datetime.datetime.now() - datetime.timedelta(days=200))   #date diff start\u001B[0m\u001B[0;34m\u001B[0m\u001B[0;34m\u001B[0m\u001B[0;34m\u001B[0m\u001B[0m\n\u001B[1;32m      3\u001B[0m \u001B[0mstart\u001B[0m \u001B[0;34m=\u001B[0m \u001B[0;34m\"20191130\"\u001B[0m   \u001B[0;31m#hardcoded start date for first RADAR-CNS data\u001B[0m\u001B[0;34m\u001B[0m\u001B[0;34m\u001B[0m\u001B[0m\n\u001B[0;32m----> 4\u001B[0;31m \u001B[0mend\u001B[0m \u001B[0;34m=\u001B[0m \u001B[0mformat_datetime\u001B[0m\u001B[0;34m(\u001B[0m\u001B[0mdatetime\u001B[0m\u001B[0;34m.\u001B[0m\u001B[0mdatetime\u001B[0m\u001B[0;34m.\u001B[0m\u001B[0mnow\u001B[0m\u001B[0;34m(\u001B[0m\u001B[0;34m)\u001B[0m\u001B[0;34m)\u001B[0m\u001B[0;34m\u001B[0m\u001B[0;34m\u001B[0m\u001B[0m\n\u001B[0m\u001B[1;32m      5\u001B[0m \u001B[0mwdir\u001B[0m \u001B[0;34m=\u001B[0m \u001B[0;34mf'data/{start}-{end}'\u001B[0m\u001B[0;34m\u001B[0m\u001B[0;34m\u001B[0m\u001B[0m\n\u001B[1;32m      6\u001B[0m \u001B[0;34m\u001B[0m\u001B[0m\n",
      "\u001B[0;31mNameError\u001B[0m: name 'format_datetime' is not defined"
     ]
    }
   ],
   "source": [
    "#init vars needed globally\n",
    "#start = format_datetime(datetime.datetime.now() - datetime.timedelta(days=200))   #date diff start\n",
    "start = \"20191130\"   #hardcoded start date for first RADAR-CNS data\n",
    "#end = format_datetime(datetime.datetime.now())\n",
    "end = \"20210628\"  #let's hardcode this so it's unambiguous\n",
    "wdir = f'../data/{start}-{end}'\n"
   ],
   "metadata": {
    "collapsed": false,
    "pycharm": {
     "name": "#%%\n"
    }
   }
  },
  {
   "cell_type": "code",
   "execution_count": null,
   "metadata": {
    "pycharm": {
     "name": "#%%\n"
    }
   },
   "outputs": [],
   "source": [
    "########################## START STUFF ######################################\n",
    "\n",
    "from google.cloud import bigquery\n",
    "\n",
    "\n",
    "# Only run once, if data is saved please proceed to next step.\n",
    "\n",
    "# Construct a BigQuery client object.\n",
    "client = bigquery.Client.from_service_account_json('/home/afolarinbrc/PycharmProjects/Firebase-events-analysis/data/key/radar-armt-notification-029b43d88c85.json')\n",
    "\n",
    "table = 'radar-armt-notification.analytics_180955751.events_*'\n",
    "#start = format_datetime(datetime.datetime.now() - datetime.timedelta(days=200))   #date diff start\n",
    "#start = \"20191130\"   #hardcoded start date for first RADAR-CNS data\n",
    "#end = format_datetime(datetime.datetime.now())\n",
    "#wdir = f'data/{start}-{end}'\n",
    "\n",
    "result = client.query(get_query(table, start, end))  # Make an API request.\n",
    "result_df: pd.DataFrame = result.to_dataframe()\n",
    "\n",
    "# Save dataframe to file so we don't need to query bigqeury again and again.\n",
    "write_to_csv_file('data.csv', wdir, data=result_df)\n"
   ]
  },
  {
   "cell_type": "code",
   "execution_count": null,
   "outputs": [],
   "source": [
    "#start = format_datetime(datetime.datetime.now() - datetime.timedelta(days=200))\n",
    "print(\"start: \" + f'{start}')\n",
    "print(\"now: \" + f'{format_datetime(datetime.datetime.now())}')\n",
    "print(\"200days prior:\" + f'{datetime.timedelta(days=200)}')\n",
    "print(\"current path: \" + os.getcwd())\n"
   ],
   "metadata": {
    "collapsed": false,
    "pycharm": {
     "name": "#%%\n"
    }
   }
  },
  {
   "cell_type": "code",
   "execution_count": null,
   "outputs": [],
   "source": [
    "# load data saved in csv file\n",
    "\n",
    "file = f'{wdir}/data.csv'\n",
    "\n",
    "result_df = pd.read_csv(file)\n",
    "\n",
    "#perhaps save as pickle?\n",
    "\n",
    "result_df.head()"
   ],
   "metadata": {
    "collapsed": false,
    "pycharm": {
     "name": "#%%\n"
    }
   }
  },
  {
   "cell_type": "code",
   "execution_count": null,
   "metadata": {},
   "outputs": [],
   "source": [
    "def pre_process(data: pd.DataFrame) -> pd.DataFrame:\n",
    "    data.index = pd.to_datetime(data['event_timestamp'] * 1000)\n",
    "    print('Created date time index')\n",
    "    project_ids = data[data['user_prop_key'] == 'projectId']['user_prop_string']\n",
    "    print('got project Ids')\n",
    "    data = data[data['user_prop_key'] != 'projectId']\n",
    "    print('removed rows with project id as they are duplicates')\n",
    "    data = data.drop(axis=1, columns=['user_prop_key'])\n",
    "    print('dropped user prop keys')\n",
    "    data.loc[:,'engagement_time_msec'] = data['event_param_int']\n",
    "    print('created column of engagement time msec')\n",
    "    data.rename({'user_prop_string': 'subjectId'}, axis=1, inplace=True)\n",
    "    print('renamed user prop string to subjectId')\n",
    "    data.loc[:,'message_type'] = data['event_param_string']\n",
    "    print('created column. message type')\n",
    "    data = data.drop(axis=1, columns = ['event_param_int', 'event_param_string', 'event_param_key'])\n",
    "    print('dropped unnecessary columns')\n",
    "    data = pd.concat([data, project_ids.dropna()], axis=1)\n",
    "    print('added column for project Ids')\n",
    "    data.rename({'user_prop_string': 'projectId'}, axis=1, inplace=True)\n",
    "    print('renamed user prop string to projectId')\n",
    "    return data"
   ]
  },
  {
   "cell_type": "code",
   "execution_count": null,
   "metadata": {},
   "outputs": [],
   "source": [
    "#test some stuff\n",
    "\n",
    "#result_pp = pre_process(result_df)\n",
    "\n"
   ]
  },
  {
   "cell_type": "code",
   "execution_count": null,
   "outputs": [],
   "source": [
    "# If possible load this from file as it take a long time to pre process the data due to its volume.\n",
    "\n",
    "processed_df = pre_process(result_df)\n",
    "write_to_csv_file('processed-data.csv', wdir, data=processed_df)"
   ],
   "metadata": {
    "collapsed": false,
    "pycharm": {
     "name": "#%%\n"
    }
   }
  },
  {
   "cell_type": "code",
   "execution_count": null,
   "outputs": [],
   "source": [
    "# Consider splitting the results_df into sub .csv files by project\n",
    "\n",
    "processed_df_by_proj = {proj_df: slice\n",
    "    for proj_df, slice in processed_df.groupby(\"projectId\")}"
   ],
   "metadata": {
    "collapsed": false,
    "pycharm": {
     "name": "#%%\n"
    }
   }
  },
  {
   "cell_type": "code",
   "execution_count": null,
   "outputs": [],
   "source": [
    "#write separate project specific data files\n",
    "[write_to_csv_file(f'{filename}.csv', wdir, proj_data) for filename, proj_data in processed_df_by_proj.items()]"
   ],
   "metadata": {
    "collapsed": false,
    "pycharm": {
     "name": "#%%\n"
    }
   }
  },
  {
   "cell_type": "code",
   "execution_count": null,
   "metadata": {},
   "outputs": [],
   "source": [
    "processed_df = pd.read_csv(f'{wdir}/processed-data.csv', parse_dates=True, date_parser=pd.to_datetime, index_col='index')"
   ]
  },
  {
   "cell_type": "code",
   "execution_count": null,
   "metadata": {},
   "outputs": [],
   "source": [
    "processed_df.head()"
   ]
  },
  {
   "cell_type": "code",
   "execution_count": 29,
   "metadata": {},
   "outputs": [],
   "source": [
    "start_date = pd.to_datetime('2019-11-12')\n",
    "end_date = pd.to_datetime('2020-04-11')\n",
    "\n",
    "processed_df_2 = processed_df.loc[(processed_df.index > start_date) & (processed_df.index < end_date)]"
   ]
  },
  {
   "cell_type": "code",
   "execution_count": 33,
   "metadata": {},
   "outputs": [],
   "source": [
    "resampled = processed_df_2[processed_df_2['event_name'] == 'user_engagement'].resample('20D')"
   ]
  },
  {
   "cell_type": "code",
   "execution_count": 34,
   "metadata": {
    "scrolled": true
   },
   "outputs": [
    {
     "data": {
      "text/plain": "([<matplotlib.axis.XTick at 0x7fafe8cd8e50>,\n  <matplotlib.axis.XTick at 0x7fafe8cd8e20>,\n  <matplotlib.axis.XTick at 0x7fafe8d04790>,\n  <matplotlib.axis.XTick at 0x7fafc9ce6df0>,\n  <matplotlib.axis.XTick at 0x7fb038dff4f0>,\n  <matplotlib.axis.XTick at 0x7fb038dff1c0>,\n  <matplotlib.axis.XTick at 0x7fafe8cd8a90>],\n [Text(0, 0, ''),\n  Text(0, 0, ''),\n  Text(0, 0, ''),\n  Text(0, 0, ''),\n  Text(0, 0, ''),\n  Text(0, 0, ''),\n  Text(0, 0, '')])"
     },
     "execution_count": 34,
     "metadata": {},
     "output_type": "execute_result"
    },
    {
     "data": {
      "text/plain": "<Figure size 1080x288 with 1 Axes>",
      "image/png": "[encoded data removed]"
     },
     "metadata": {
      "needs_background": "light"
     },
     "output_type": "display_data"
    }
   ],
   "source": [
    "import matplotlib.pyplot as plt\n",
    "\n",
    "#.drop(labels=pd.to_datetime('2020-03-26'), axis='index')\n",
    "resampled['engagement_time_msec'].sum().plot(figsize=(15,4))\n",
    "plt.title('Total User Engagement Time')\n",
    "\n",
    "plt.xlabel('Time')\n",
    "plt.ylabel('Total Engagement Time (msec)')\n",
    "\n",
    "plt.xticks(['2019-12-15', '2020-01-01', '2020-01-15', '2020-02-01', '2020-02-15', '2020-03-01', '2020-03-15' ])"
   ]
  },
  {
   "cell_type": "code",
   "execution_count": 35,
   "metadata": {},
   "outputs": [],
   "source": [
    "# Calculate user engagement per user\n",
    "\n",
    "user_eng_df = processed_df_2[processed_df_2['event_name'] == 'user_engagement']\n",
    "grouped_df = user_eng_df.groupby([pd.Grouper(freq='19D')])"
   ]
  },
  {
   "cell_type": "code",
   "execution_count": 36,
   "metadata": {
    "scrolled": true
   },
   "outputs": [
    {
     "name": "stdout",
     "output_type": "stream",
     "text": [
      "2019-11-30 00:00:00\n",
      "2019-12-19 00:00:00\n",
      "2020-01-07 00:00:00\n",
      "2020-01-26 00:00:00\n",
      "2020-02-14 00:00:00\n",
      "2020-03-04 00:00:00\n",
      "2020-03-23 00:00:00\n"
     ]
    }
   ],
   "source": [
    "for name, group in grouped_df:\n",
    "    print(name)"
   ]
  },
  {
   "cell_type": "code",
   "execution_count": 38,
   "metadata": {},
   "outputs": [],
   "source": [
    "# Aggregate enagement time as sum and count the number of unique users\n",
    "grouped_df_agg = grouped_df.agg(engagement_time_sum_min=pd.NamedAgg(column='engagement_time_msec', aggfunc=lambda x: x.sum()/ 1000 / 60),\n",
    "                                user_pseudo_id_count=pd.NamedAgg(column='user_pseudo_id', aggfunc= lambda x: x.nunique()))"
   ]
  },
  {
   "cell_type": "code",
   "execution_count": 39,
   "metadata": {},
   "outputs": [
    {
     "data": {
      "text/plain": "            engagement_time_sum_min  user_pseudo_id_count\nindex                                                    \n2019-11-30              4181.839367                   588\n2019-12-19              4082.810483                   513\n2020-01-07              5886.858083                   662\n2020-01-26              7679.446900                   649\n2020-02-14              7490.318200                   625",
      "text/html": "<div>\n<style scoped>\n    .dataframe tbody tr th:only-of-type {\n        vertical-align: middle;\n    }\n\n    .dataframe tbody tr th {\n        vertical-align: top;\n    }\n\n    .dataframe thead th {\n        text-align: right;\n    }\n</style>\n<table border=\"1\" class=\"dataframe\">\n  <thead>\n    <tr style=\"text-align: right;\">\n      <th></th>\n      <th>engagement_time_sum_min</th>\n      <th>user_pseudo_id_count</th>\n    </tr>\n    <tr>\n      <th>index</th>\n      <th></th>\n      <th></th>\n    </tr>\n  </thead>\n  <tbody>\n    <tr>\n      <th>2019-11-30</th>\n      <td>4181.839367</td>\n      <td>588</td>\n    </tr>\n    <tr>\n      <th>2019-12-19</th>\n      <td>4082.810483</td>\n      <td>513</td>\n    </tr>\n    <tr>\n      <th>2020-01-07</th>\n      <td>5886.858083</td>\n      <td>662</td>\n    </tr>\n    <tr>\n      <th>2020-01-26</th>\n      <td>7679.446900</td>\n      <td>649</td>\n    </tr>\n    <tr>\n      <th>2020-02-14</th>\n      <td>7490.318200</td>\n      <td>625</td>\n    </tr>\n  </tbody>\n</table>\n</div>"
     },
     "execution_count": 39,
     "metadata": {},
     "output_type": "execute_result"
    }
   ],
   "source": [
    "grouped_df_agg.head()"
   ]
  },
  {
   "cell_type": "code",
   "execution_count": 40,
   "metadata": {},
   "outputs": [],
   "source": [
    "grouped_df_agg['engagement_per_user'] = grouped_df_agg['engagement_time_sum_min']/grouped_df_agg['user_pseudo_id_count']"
   ]
  },
  {
   "cell_type": "code",
   "execution_count": 41,
   "metadata": {},
   "outputs": [
    {
     "data": {
      "text/plain": "            engagement_time_sum_min  user_pseudo_id_count  engagement_per_user\nindex                                                                         \n2020-01-07              5886.858083                   662             8.892535\n2020-01-26              7679.446900                   649            11.832738\n2020-02-14              7490.318200                   625            11.984509\n2020-03-04              8208.931583                   590            13.913443\n2020-03-23              7018.921350                   604            11.620731",
      "text/html": "<div>\n<style scoped>\n    .dataframe tbody tr th:only-of-type {\n        vertical-align: middle;\n    }\n\n    .dataframe tbody tr th {\n        vertical-align: top;\n    }\n\n    .dataframe thead th {\n        text-align: right;\n    }\n</style>\n<table border=\"1\" class=\"dataframe\">\n  <thead>\n    <tr style=\"text-align: right;\">\n      <th></th>\n      <th>engagement_time_sum_min</th>\n      <th>user_pseudo_id_count</th>\n      <th>engagement_per_user</th>\n    </tr>\n    <tr>\n      <th>index</th>\n      <th></th>\n      <th></th>\n      <th></th>\n    </tr>\n  </thead>\n  <tbody>\n    <tr>\n      <th>2020-01-07</th>\n      <td>5886.858083</td>\n      <td>662</td>\n      <td>8.892535</td>\n    </tr>\n    <tr>\n      <th>2020-01-26</th>\n      <td>7679.446900</td>\n      <td>649</td>\n      <td>11.832738</td>\n    </tr>\n    <tr>\n      <th>2020-02-14</th>\n      <td>7490.318200</td>\n      <td>625</td>\n      <td>11.984509</td>\n    </tr>\n    <tr>\n      <th>2020-03-04</th>\n      <td>8208.931583</td>\n      <td>590</td>\n      <td>13.913443</td>\n    </tr>\n    <tr>\n      <th>2020-03-23</th>\n      <td>7018.921350</td>\n      <td>604</td>\n      <td>11.620731</td>\n    </tr>\n  </tbody>\n</table>\n</div>"
     },
     "execution_count": 41,
     "metadata": {},
     "output_type": "execute_result"
    }
   ],
   "source": [
    "grouped_df_agg.tail()"
   ]
  },
  {
   "cell_type": "code",
   "execution_count": 42,
   "metadata": {},
   "outputs": [],
   "source": [
    "grouped_df_agg.index = grouped_df_agg.index + datetime.timedelta(days=19)"
   ]
  },
  {
   "cell_type": "code",
   "execution_count": 45,
   "metadata": {},
   "outputs": [
    {
     "data": {
      "text/plain": "([<matplotlib.axis.XTick at 0x7fb03d8b95e0>,\n  <matplotlib.axis.XTick at 0x7fb03d8b9580>,\n  <matplotlib.axis.XTick at 0x7fb03d8a6d30>,\n  <matplotlib.axis.XTick at 0x7fafc9769190>,\n  <matplotlib.axis.XTick at 0x7fafc9769af0>,\n  <matplotlib.axis.XTick at 0x7fafc97692b0>,\n  <matplotlib.axis.XTick at 0x7fb0381d8700>,\n  <matplotlib.axis.XTick at 0x7fafc9757370>,\n  <matplotlib.axis.XTick at 0x7fafc9757af0>,\n  <matplotlib.axis.XTick at 0x7fafc9748280>,\n  <matplotlib.axis.XTick at 0x7fafc97489d0>],\n [Text(0, 0, ''),\n  Text(0, 0, ''),\n  Text(0, 0, ''),\n  Text(0, 0, ''),\n  Text(0, 0, ''),\n  Text(0, 0, ''),\n  Text(0, 0, ''),\n  Text(0, 0, ''),\n  Text(0, 0, ''),\n  Text(0, 0, ''),\n  Text(0, 0, '')])"
     },
     "execution_count": 45,
     "metadata": {},
     "output_type": "execute_result"
    },
    {
     "data": {
      "text/plain": "<Figure size 1080x288 with 1 Axes>",
      "image/png": "[encoded data removed]"
     },
     "metadata": {
      "needs_background": "light"
     },
     "output_type": "display_data"
    }
   ],
   "source": [
    "\n",
    "#grouped_df_agg.loc[pd.to_datetime('2020-03-25'), :] = grouped_df_agg.loc[pd.to_datetime('2020-03-06'), :]\n",
    "grouped_df_agg['engagement_per_user'].plot(figsize=(15, 4))\n",
    "\n",
    "plt.title('User Engagement Time/User')\n",
    "\n",
    "plt.xlabel('Time')\n",
    "plt.ylabel('Engagement Time/User (minutes)')\n",
    "\n",
    "plt.xticks([\n",
    "            '2019-11-15', '2019-12-01',\n",
    "            '2019-12-15', '2020-01-01',\n",
    "            '2020-01-15', '2020-02-01',\n",
    "            '2020-02-15', '2020-03-01',\n",
    "            '2020-03-15', '2020-04-01', '2020-04-15' ])"
   ]
  },
  {
   "cell_type": "code",
   "execution_count": 46,
   "metadata": {},
   "outputs": [],
   "source": [
    "notifs_df = processed_df_2[(processed_df_2['event_name'] == 'notification_open') & (processed_df_2['message_type'] == 'fcm')]"
   ]
  },
  {
   "cell_type": "code",
   "execution_count": 46,
   "metadata": {},
   "outputs": [],
   "source": []
  },
  {
   "cell_type": "code",
   "execution_count": 47,
   "metadata": {},
   "outputs": [],
   "source": [
    "resampled_notifs = notifs_df.groupby([pd.Grouper(freq='19D')])"
   ]
  },
  {
   "cell_type": "code",
   "execution_count": 48,
   "metadata": {},
   "outputs": [
    {
     "data": {
      "text/plain": "<pandas.core.groupby.generic.DataFrameGroupBy object at 0x7fafc9b7edc0>"
     },
     "execution_count": 48,
     "metadata": {},
     "output_type": "execute_result"
    }
   ],
   "source": [
    "resampled_notifs"
   ]
  },
  {
   "cell_type": "code",
   "execution_count": 49,
   "metadata": {},
   "outputs": [],
   "source": [
    "resampled_notifs_agg = resampled_notifs.agg(notif_open_count=pd.NamedAgg(column='event_name', aggfunc='count'),\n",
    "                     user_pseudo_id_count=pd.NamedAgg(column='user_pseudo_id', aggfunc=lambda x: x.nunique()))"
   ]
  },
  {
   "cell_type": "code",
   "execution_count": null,
   "metadata": {},
   "outputs": [],
   "source": []
  },
  {
   "cell_type": "code",
   "execution_count": 50,
   "metadata": {},
   "outputs": [],
   "source": [
    "resampled_notifs_agg['notif_open_per_user'] = resampled_notifs_agg['notif_open_count'] / resampled_notifs_agg['user_pseudo_id_count']"
   ]
  },
  {
   "cell_type": "code",
   "execution_count": 51,
   "metadata": {},
   "outputs": [
    {
     "data": {
      "text/plain": "            notif_open_count  user_pseudo_id_count  notif_open_per_user\nindex                                                                  \n2019-11-30               729                   309             2.359223\n2019-12-19               624                   273             2.285714\n2020-01-07              1059                   384             2.757812\n2020-01-26              1595                   398             4.007538\n2020-02-14              1433                   333             4.303303",
      "text/html": "<div>\n<style scoped>\n    .dataframe tbody tr th:only-of-type {\n        vertical-align: middle;\n    }\n\n    .dataframe tbody tr th {\n        vertical-align: top;\n    }\n\n    .dataframe thead th {\n        text-align: right;\n    }\n</style>\n<table border=\"1\" class=\"dataframe\">\n  <thead>\n    <tr style=\"text-align: right;\">\n      <th></th>\n      <th>notif_open_count</th>\n      <th>user_pseudo_id_count</th>\n      <th>notif_open_per_user</th>\n    </tr>\n    <tr>\n      <th>index</th>\n      <th></th>\n      <th></th>\n      <th></th>\n    </tr>\n  </thead>\n  <tbody>\n    <tr>\n      <th>2019-11-30</th>\n      <td>729</td>\n      <td>309</td>\n      <td>2.359223</td>\n    </tr>\n    <tr>\n      <th>2019-12-19</th>\n      <td>624</td>\n      <td>273</td>\n      <td>2.285714</td>\n    </tr>\n    <tr>\n      <th>2020-01-07</th>\n      <td>1059</td>\n      <td>384</td>\n      <td>2.757812</td>\n    </tr>\n    <tr>\n      <th>2020-01-26</th>\n      <td>1595</td>\n      <td>398</td>\n      <td>4.007538</td>\n    </tr>\n    <tr>\n      <th>2020-02-14</th>\n      <td>1433</td>\n      <td>333</td>\n      <td>4.303303</td>\n    </tr>\n  </tbody>\n</table>\n</div>"
     },
     "execution_count": 51,
     "metadata": {},
     "output_type": "execute_result"
    }
   ],
   "source": [
    "resampled_notifs_agg.head()"
   ]
  },
  {
   "cell_type": "code",
   "execution_count": 52,
   "metadata": {},
   "outputs": [],
   "source": [
    "resampled_notifs_agg.index = resampled_notifs_agg.index + datetime.timedelta(days=19)"
   ]
  },
  {
   "cell_type": "code",
   "execution_count": 53,
   "metadata": {},
   "outputs": [
    {
     "data": {
      "text/plain": "([<matplotlib.axis.XTick at 0x7fafc9a4e7f0>,\n  <matplotlib.axis.XTick at 0x7fafc9a4e7c0>,\n  <matplotlib.axis.XTick at 0x7fafc9a77ee0>,\n  <matplotlib.axis.XTick at 0x7fafc9a7afa0>,\n  <matplotlib.axis.XTick at 0x7fb043121a00>,\n  <matplotlib.axis.XTick at 0x7fb043135190>,\n  <matplotlib.axis.XTick at 0x7fafc9a4f400>,\n  <matplotlib.axis.XTick at 0x7fb0431339d0>,\n  <matplotlib.axis.XTick at 0x7fb043105160>,\n  <matplotlib.axis.XTick at 0x7fb043133b80>,\n  <matplotlib.axis.XTick at 0x7fb043138a30>],\n [Text(0, 0, ''),\n  Text(0, 0, ''),\n  Text(0, 0, ''),\n  Text(0, 0, ''),\n  Text(0, 0, ''),\n  Text(0, 0, ''),\n  Text(0, 0, ''),\n  Text(0, 0, ''),\n  Text(0, 0, ''),\n  Text(0, 0, ''),\n  Text(0, 0, '')])"
     },
     "execution_count": 53,
     "metadata": {},
     "output_type": "execute_result"
    },
    {
     "data": {
      "text/plain": "<Figure size 1080x288 with 1 Axes>",
      "image/png": "[encoded data removed]"
     },
     "metadata": {
      "needs_background": "light"
     },
     "output_type": "display_data"
    }
   ],
   "source": [
    "resampled_notifs_agg['notif_open_per_user'].plot(figsize=(15, 4))\n",
    "\n",
    "\n",
    "plt.title('Number of opened Notifications / User')\n",
    "\n",
    "plt.xlabel('Time')\n",
    "plt.ylabel('Number of opened Notifications / User')\n",
    "\n",
    "plt.xticks([\n",
    "            '2019-11-15', '2019-12-01',\n",
    "            '2019-12-15', '2020-01-01',\n",
    "            '2020-01-15', '2020-02-01',\n",
    "            '2020-02-15', '2020-03-01',\n",
    "            '2020-03-15', '2020-04-01', '2020-04-15' ])"
   ]
  },
  {
   "cell_type": "code",
   "execution_count": 54,
   "metadata": {},
   "outputs": [],
   "source": [
    "notifs_received_df = processed_df_2[(processed_df_2['event_name'] == 'notification_receive') &\n",
    "                                    (processed_df_2['message_type'] == 'display')]"
   ]
  },
  {
   "cell_type": "code",
   "execution_count": 56,
   "metadata": {},
   "outputs": [],
   "source": [
    "resampled_notifs_received_df = notifs_received_df.groupby([pd.Grouper(freq='19D')])"
   ]
  },
  {
   "cell_type": "code",
   "execution_count": 57,
   "metadata": {},
   "outputs": [],
   "source": [
    "resampled_notifs_received_df_agg = resampled_notifs_received_df.agg(notif_receive_count=pd.NamedAgg(column='event_name', aggfunc='count'),\n",
    "                     user_pseudo_id_count=pd.NamedAgg(column='user_pseudo_id', aggfunc=lambda x: x.nunique()))"
   ]
  },
  {
   "cell_type": "code",
   "execution_count": 58,
   "metadata": {},
   "outputs": [],
   "source": [
    "resampled_notifs_received_df_agg['notif_received_per_user'] = resampled_notifs_received_df_agg['notif_receive_count'] / resampled_notifs_received_df_agg['user_pseudo_id_count']"
   ]
  },
  {
   "cell_type": "code",
   "execution_count": 59,
   "metadata": {},
   "outputs": [
    {
     "data": {
      "text/plain": "            notif_receive_count  user_pseudo_id_count  notif_received_per_user\nindex                                                                         \n2019-11-30                 2024                   527                 3.840607\n2019-12-19                 1681                   483                 3.480331\n2020-01-07                 3269                   606                 5.394389\n2020-01-26                 4383                   641                 6.837754\n2020-02-14                 4493                   575                 7.813913",
      "text/html": "<div>\n<style scoped>\n    .dataframe tbody tr th:only-of-type {\n        vertical-align: middle;\n    }\n\n    .dataframe tbody tr th {\n        vertical-align: top;\n    }\n\n    .dataframe thead th {\n        text-align: right;\n    }\n</style>\n<table border=\"1\" class=\"dataframe\">\n  <thead>\n    <tr style=\"text-align: right;\">\n      <th></th>\n      <th>notif_receive_count</th>\n      <th>user_pseudo_id_count</th>\n      <th>notif_received_per_user</th>\n    </tr>\n    <tr>\n      <th>index</th>\n      <th></th>\n      <th></th>\n      <th></th>\n    </tr>\n  </thead>\n  <tbody>\n    <tr>\n      <th>2019-11-30</th>\n      <td>2024</td>\n      <td>527</td>\n      <td>3.840607</td>\n    </tr>\n    <tr>\n      <th>2019-12-19</th>\n      <td>1681</td>\n      <td>483</td>\n      <td>3.480331</td>\n    </tr>\n    <tr>\n      <th>2020-01-07</th>\n      <td>3269</td>\n      <td>606</td>\n      <td>5.394389</td>\n    </tr>\n    <tr>\n      <th>2020-01-26</th>\n      <td>4383</td>\n      <td>641</td>\n      <td>6.837754</td>\n    </tr>\n    <tr>\n      <th>2020-02-14</th>\n      <td>4493</td>\n      <td>575</td>\n      <td>7.813913</td>\n    </tr>\n  </tbody>\n</table>\n</div>"
     },
     "execution_count": 59,
     "metadata": {},
     "output_type": "execute_result"
    }
   ],
   "source": [
    "resampled_notifs_received_df_agg.head()"
   ]
  },
  {
   "cell_type": "code",
   "execution_count": 60,
   "metadata": {},
   "outputs": [],
   "source": [
    "resampled_notifs_received_df_agg.index = resampled_notifs_received_df_agg.index + datetime.timedelta(days=19)"
   ]
  },
  {
   "cell_type": "code",
   "execution_count": 61,
   "metadata": {},
   "outputs": [
    {
     "data": {
      "text/plain": "([<matplotlib.axis.XTick at 0x7fb043d3b520>,\n  <matplotlib.axis.XTick at 0x7fb043d3b4f0>,\n  <matplotlib.axis.XTick at 0x7fb043d28bb0>,\n  <matplotlib.axis.XTick at 0x7fb043d1d220>,\n  <matplotlib.axis.XTick at 0x7fb043d1d9a0>,\n  <matplotlib.axis.XTick at 0x7fb043d1d550>,\n  <matplotlib.axis.XTick at 0x7fafc9748e20>,\n  <matplotlib.axis.XTick at 0x7fafc9b035e0>,\n  <matplotlib.axis.XTick at 0x7fafc9b03d30>,\n  <matplotlib.axis.XTick at 0x7fafc9b2a4c0>,\n  <matplotlib.axis.XTick at 0x7fafc9b2ac10>],\n [Text(0, 0, ''),\n  Text(0, 0, ''),\n  Text(0, 0, ''),\n  Text(0, 0, ''),\n  Text(0, 0, ''),\n  Text(0, 0, ''),\n  Text(0, 0, ''),\n  Text(0, 0, ''),\n  Text(0, 0, ''),\n  Text(0, 0, ''),\n  Text(0, 0, '')])"
     },
     "execution_count": 61,
     "metadata": {},
     "output_type": "execute_result"
    },
    {
     "data": {
      "text/plain": "<Figure size 1080x288 with 1 Axes>",
      "image/png": "[encoded data removed]"
     },
     "metadata": {
      "needs_background": "light"
     },
     "output_type": "display_data"
    }
   ],
   "source": [
    "resampled_notifs_received_df_agg['notif_received_per_user'].plot(figsize=(15, 4))\n",
    "\n",
    "\n",
    "plt.title('Number of Received Notifications / User')\n",
    "\n",
    "plt.xlabel('Time')\n",
    "plt.ylabel('Number of Received Notifications / User')\n",
    "\n",
    "plt.xticks(['2019-11-01',\n",
    "            '2019-11-15', '2019-12-01',\n",
    "            '2019-12-15', '2020-01-01',\n",
    "            '2020-01-15', '2020-02-01',\n",
    "            '2020-02-15', '2020-03-01',\n",
    "            '2020-03-15', '2020-04-01' ])"
   ]
  },
  {
   "cell_type": "code",
   "execution_count": 62,
   "metadata": {},
   "outputs": [],
   "source": [
    "resampled_notifs_received_df_agg['percent_open'] = resampled_notifs_agg['notif_open_count'] / resampled_notifs_received_df_agg['notif_receive_count']"
   ]
  },
  {
   "cell_type": "code",
   "execution_count": 64,
   "metadata": {},
   "outputs": [
    {
     "data": {
      "text/plain": "            notif_receive_count  user_pseudo_id_count  \\\nindex                                                   \n2020-01-26                 3269                   606   \n2020-02-14                 4383                   641   \n2020-03-04                 4493                   575   \n2020-03-23                 4343                   577   \n2020-04-11                 4336                   577   \n\n            notif_received_per_user  percent_open  \nindex                                              \n2020-01-26                 5.394389      0.323952  \n2020-02-14                 6.837754      0.363906  \n2020-03-04                 7.813913      0.318941  \n2020-03-23                 7.526863      0.388671  \n2020-04-11                 7.514731      0.418589  ",
      "text/html": "<div>\n<style scoped>\n    .dataframe tbody tr th:only-of-type {\n        vertical-align: middle;\n    }\n\n    .dataframe tbody tr th {\n        vertical-align: top;\n    }\n\n    .dataframe thead th {\n        text-align: right;\n    }\n</style>\n<table border=\"1\" class=\"dataframe\">\n  <thead>\n    <tr style=\"text-align: right;\">\n      <th></th>\n      <th>notif_receive_count</th>\n      <th>user_pseudo_id_count</th>\n      <th>notif_received_per_user</th>\n      <th>percent_open</th>\n    </tr>\n    <tr>\n      <th>index</th>\n      <th></th>\n      <th></th>\n      <th></th>\n      <th></th>\n    </tr>\n  </thead>\n  <tbody>\n    <tr>\n      <th>2020-01-26</th>\n      <td>3269</td>\n      <td>606</td>\n      <td>5.394389</td>\n      <td>0.323952</td>\n    </tr>\n    <tr>\n      <th>2020-02-14</th>\n      <td>4383</td>\n      <td>641</td>\n      <td>6.837754</td>\n      <td>0.363906</td>\n    </tr>\n    <tr>\n      <th>2020-03-04</th>\n      <td>4493</td>\n      <td>575</td>\n      <td>7.813913</td>\n      <td>0.318941</td>\n    </tr>\n    <tr>\n      <th>2020-03-23</th>\n      <td>4343</td>\n      <td>577</td>\n      <td>7.526863</td>\n      <td>0.388671</td>\n    </tr>\n    <tr>\n      <th>2020-04-11</th>\n      <td>4336</td>\n      <td>577</td>\n      <td>7.514731</td>\n      <td>0.418589</td>\n    </tr>\n  </tbody>\n</table>\n</div>"
     },
     "execution_count": 64,
     "metadata": {},
     "output_type": "execute_result"
    }
   ],
   "source": [
    "resampled_notifs_received_df_agg.tail()"
   ]
  },
  {
   "cell_type": "code",
   "execution_count": 65,
   "metadata": {},
   "outputs": [],
   "source": [
    "resampled_notifs_received_df_agg.index = resampled_notifs_received_df_agg.index + datetime.timedelta(days=19)"
   ]
  },
  {
   "cell_type": "code",
   "execution_count": 66,
   "metadata": {},
   "outputs": [
    {
     "data": {
      "text/plain": "<Figure size 1080x288 with 1 Axes>",
      "image/png": "[encoded data removed]"
     },
     "metadata": {
      "needs_background": "light"
     },
     "output_type": "display_data"
    }
   ],
   "source": [
    "resampled_notifs_received_df_agg['percent_open'].plot(figsize=(15, 4))\n",
    "\n",
    "\n",
    "plt.title('Percent of opened notifications vs received')\n",
    "\n",
    "plt.xlabel('Time')\n",
    "plt.ylabel('Percent of opened notifications vs received')\n",
    "\n",
    "plt.xticks(['2019-11-15', '2019-12-01',\n",
    "            '2019-12-15', '2020-01-01',\n",
    "            '2020-01-15', '2020-02-01',\n",
    "            '2020-02-15', '2020-03-01',\n",
    "            '2020-03-15', '2020-04-01',\n",
    "            '2020-04-15'])\n",
    "plt.show()"
   ]
  },
  {
   "cell_type": "code",
   "execution_count": 66,
   "metadata": {},
   "outputs": [],
   "source": []
  },
  {
   "cell_type": "code",
   "execution_count": 67,
   "metadata": {},
   "outputs": [],
   "source": [
    "# Calculate user engagement per user per project\n",
    "\n",
    "user_eng_project_df = processed_df_2[processed_df_2['event_name'] == 'user_engagement']\n",
    "project_grouped_df = user_eng_project_df.groupby(['projectId', pd.Grouper(freq='19D')])"
   ]
  },
  {
   "cell_type": "code",
   "execution_count": 68,
   "metadata": {},
   "outputs": [],
   "source": [
    "# Aggregate enagement time as sum and count the number of unique users\n",
    "project_grouped_df_agg = project_grouped_df.agg(engagement_time_sum_min=pd.NamedAgg(column='engagement_time_msec', aggfunc=lambda x: x.sum()/ 1000 / 60),\n",
    "                                user_pseudo_id_count=pd.NamedAgg(column='user_pseudo_id', aggfunc= lambda x: x.nunique()))"
   ]
  },
  {
   "cell_type": "code",
   "execution_count": 69,
   "metadata": {},
   "outputs": [],
   "source": [
    "project_grouped_df_agg['engagement_per_user'] = project_grouped_df_agg['engagement_time_sum_min']/project_grouped_df_agg['user_pseudo_id_count']"
   ]
  },
  {
   "cell_type": "code",
   "execution_count": 70,
   "metadata": {},
   "outputs": [
    {
     "data": {
      "text/plain": "                      engagement_time_sum_min  user_pseudo_id_count  \\\nprojectId index                                                       \nDynaMINT  2020-03-04                31.039117                     1   \n          2020-03-23                28.534617                     1   \nDynaMOBS  2020-03-04                11.218567                     1   \nDynaMORE  2020-01-07               117.758183                     7   \n          2020-01-26                68.525233                     7   \n\n                      engagement_per_user  \nprojectId index                            \nDynaMINT  2020-03-04            31.039117  \n          2020-03-23            28.534617  \nDynaMOBS  2020-03-04            11.218567  \nDynaMORE  2020-01-07            16.822598  \n          2020-01-26             9.789319  ",
      "text/html": "<div>\n<style scoped>\n    .dataframe tbody tr th:only-of-type {\n        vertical-align: middle;\n    }\n\n    .dataframe tbody tr th {\n        vertical-align: top;\n    }\n\n    .dataframe thead th {\n        text-align: right;\n    }\n</style>\n<table border=\"1\" class=\"dataframe\">\n  <thead>\n    <tr style=\"text-align: right;\">\n      <th></th>\n      <th></th>\n      <th>engagement_time_sum_min</th>\n      <th>user_pseudo_id_count</th>\n      <th>engagement_per_user</th>\n    </tr>\n    <tr>\n      <th>projectId</th>\n      <th>index</th>\n      <th></th>\n      <th></th>\n      <th></th>\n    </tr>\n  </thead>\n  <tbody>\n    <tr>\n      <th rowspan=\"2\" valign=\"top\">DynaMINT</th>\n      <th>2020-03-04</th>\n      <td>31.039117</td>\n      <td>1</td>\n      <td>31.039117</td>\n    </tr>\n    <tr>\n      <th>2020-03-23</th>\n      <td>28.534617</td>\n      <td>1</td>\n      <td>28.534617</td>\n    </tr>\n    <tr>\n      <th>DynaMOBS</th>\n      <th>2020-03-04</th>\n      <td>11.218567</td>\n      <td>1</td>\n      <td>11.218567</td>\n    </tr>\n    <tr>\n      <th rowspan=\"2\" valign=\"top\">DynaMORE</th>\n      <th>2020-01-07</th>\n      <td>117.758183</td>\n      <td>7</td>\n      <td>16.822598</td>\n    </tr>\n    <tr>\n      <th>2020-01-26</th>\n      <td>68.525233</td>\n      <td>7</td>\n      <td>9.789319</td>\n    </tr>\n  </tbody>\n</table>\n</div>"
     },
     "execution_count": 70,
     "metadata": {},
     "output_type": "execute_result"
    }
   ],
   "source": [
    "project_grouped_df_agg.head()"
   ]
  },
  {
   "cell_type": "code",
   "execution_count": 71,
   "metadata": {},
   "outputs": [
    {
     "name": "stdout",
     "output_type": "stream",
     "text": [
      "DynaMINT\n",
      "DynaMINT\n",
      "DynaMOBS\n",
      "DynaMORE\n",
      "DynaMORE\n",
      "DynaMORE\n",
      "DynaMORE\n",
      "DynaMORE\n",
      "ESMBruno-EPI-KCL-s1\n",
      "Epilepsy-ESM-Study_aRMT\n",
      "MS_TEST\n",
      "MS_TEST\n",
      "MS_TEST\n",
      "MS_TEST\n",
      "MS_TEST\n",
      "MS_TEST\n",
      "RADAR-ART-KCL-s1\n",
      "RADAR-ART-KCL-s1\n",
      "RADAR-ART-KCL-s1\n",
      "RADAR-ART-KCL-s1\n",
      "RADAR-ART-KCL-s1\n",
      "RADAR-ART-KCL-s1\n",
      "RADAR-MDD-CIBER-s1\n",
      "RADAR-MDD-CIBER-s1\n",
      "RADAR-MDD-CIBER-s1\n",
      "RADAR-MDD-CIBER-s1\n",
      "RADAR-MDD-CIBER-s1\n",
      "RADAR-MDD-CIBER-s1\n",
      "RADAR-MDD-CIBER-s1\n",
      "RADAR-MDD-IISPV-s1\n",
      "RADAR-MDD-IISPV-s1\n",
      "RADAR-MDD-IISPV-s1\n",
      "RADAR-MDD-IISPV-s1\n",
      "RADAR-MDD-IISPV-s1\n",
      "RADAR-MDD-IISPV-s1\n",
      "RADAR-MDD-IISPV-s1\n",
      "RADAR-MDD-KCL-s1\n",
      "RADAR-MDD-KCL-s1\n",
      "RADAR-MDD-KCL-s1\n",
      "RADAR-MDD-KCL-s1\n",
      "RADAR-MDD-KCL-s1\n",
      "RADAR-MDD-KCL-s1\n",
      "RADAR-MDD-KCL-s1\n",
      "RADAR-MDD-VUmc-s1\n",
      "RADAR-MDD-VUmc-s1\n",
      "RADAR-MDD-VUmc-s1\n",
      "RADAR-MDD-VUmc-s1\n",
      "RADAR-MDD-VUmc-s1\n",
      "RADAR-MDD-VUmc-s1\n",
      "RADAR-MDD-VUmc-s1\n",
      "RADAR-MSDep-OSR-s1\n",
      "RADAR-MSDep-OSR-s1\n",
      "RADAR-MSDep-OSR-s1\n",
      "RADAR-MSDep-OSR-s1\n",
      "RADAR-MSDep-OSR-s1\n",
      "RADAR-MSDep-OSR-s1\n",
      "RADAR-MSDep-OSR-s1\n",
      "RADAR-MSDep-RegionH-s1\n",
      "RADAR-MSDep-RegionH-s1\n",
      "RADAR-MSDep-RegionH-s1\n",
      "RADAR-MSDep-RegionH-s1\n",
      "RADAR-MSDep-RegionH-s1\n",
      "RADAR-MSDep-RegionH-s1\n",
      "RADAR-MSDep-RegionH-s1\n",
      "RADAR-MSDep-VHIR-s1\n",
      "RADAR-MSDep-VHIR-s1\n",
      "RADAR-MSDep-VHIR-s1\n",
      "RADAR-MSDep-VHIR-s1\n",
      "RADAR-MSDep-VHIR-s1\n",
      "RADAR-MSDep-VHIR-s1\n",
      "RADAR-MSDep-VHIR-s1\n",
      "RADAR-MSDis-OSR-s1\n",
      "RADAR-MSDis-OSR-s1\n",
      "RADAR-MSDis-OSR-s1\n",
      "RADAR-MSDis-OSR-s1\n",
      "RADAR-MSDis-OSR-s1\n",
      "RADAR-MSDis-OSR-s1\n",
      "RADAR-MSDis-OSR-s1\n",
      "RADAR-MSDis-RegionH-s1\n",
      "RADAR-MSDis-RegionH-s1\n",
      "RADAR-MSDis-RegionH-s1\n",
      "RADAR-MSDis-RegionH-s1\n",
      "RADAR-MSDis-RegionH-s1\n",
      "RADAR-MSDis-RegionH-s1\n",
      "RADAR-MSDis-RegionH-s1\n",
      "RADAR-MSDis-VHIR-s1\n",
      "RADAR-MSDis-VHIR-s1\n",
      "RADAR-MSDis-VHIR-s1\n",
      "RADAR-MSDis-VHIR-s1\n",
      "RADAR-MSDis-VHIR-s1\n",
      "RADAR-MSDis-VHIR-s1\n",
      "RADAR-MSDis-VHIR-s1\n",
      "RADAR-RAPID-KCL-s1\n",
      "RADAR-RAPID-KCL-s1\n",
      "STAGING_PROJECT\n",
      "STAGING_PROJECT\n",
      "STAGING_PROJECT\n",
      "STAGING_PROJECT\n",
      "STAGING_PROJECT\n",
      "STAGING_PROJECT\n",
      "STAGING_PROJECT\n"
     ]
    }
   ],
   "source": [
    "for (name, timerange), group in project_grouped_df:\n",
    "    print(name)"
   ]
  },
  {
   "cell_type": "code",
   "execution_count": 71,
   "metadata": {},
   "outputs": [],
   "source": []
  },
  {
   "cell_type": "code",
   "execution_count": 72,
   "metadata": {},
   "outputs": [],
   "source": [
    "LONDON_UK = ['RADAR-MDD-KCL-s1']\n",
    "BARCELONA_MDD = ['RADAR-MDD-CIBER-s1',  'RADAR-MDD-IISPV-s1']\n",
    "AMSTERDAM_NETHERLANDS = ['RADAR-MDD-VUmc-s1']\n",
    "BARCELONA_SPAIN = ['RADAR-MDD-CIBER-s1', 'RADAR-MSDis-VHIR-s1', 'RADAR-MSDep-VHIR-s1', 'RADAR-MDD-IISPV-s1']\n",
    "BARCELONA_MS = ['RADAR-MSDis-VHIR-s1', 'RADAR-MSDep-VHIR-s1']\n",
    "COPENHAGEN_DENMARK = ['RADAR-MSDep-RegionH-s1', 'RADAR-MSDis-RegionH-s1']\n",
    "MILAN_ITALY = ['RADAR-MSDep-OSR-s1', 'RADAR-MSDis-OSR-s1']\n",
    "\n",
    "ALL_MDD = LONDON_UK + BARCELONA_MDD + AMSTERDAM_NETHERLANDS\n",
    "ALL_MS = MILAN_ITALY + COPENHAGEN_DENMARK + BARCELONA_MS + COPENHAGEN_DENMARK\n",
    "ALL_RADAR_CNS = LONDON_UK + BARCELONA_SPAIN + COPENHAGEN_DENMARK + MILAN_ITALY + AMSTERDAM_NETHERLANDS"
   ]
  },
  {
   "cell_type": "code",
   "execution_count": 73,
   "metadata": {},
   "outputs": [
    {
     "name": "stdout",
     "output_type": "stream",
     "text": [
      "['RADAR-MDD-KCL-s1', 'RADAR-MDD-CIBER-s1', 'RADAR-MSDis-VHIR-s1', 'RADAR-MSDep-VHIR-s1', 'RADAR-MDD-IISPV-s1', 'RADAR-MSDep-RegionH-s1', 'RADAR-MSDis-RegionH-s1', 'RADAR-MSDep-OSR-s1', 'RADAR-MSDis-OSR-s1', 'RADAR-MDD-VUmc-s1']\n"
     ]
    }
   ],
   "source": [
    "print(ALL_RADAR_CNS)"
   ]
  },
  {
   "cell_type": "code",
   "execution_count": 74,
   "metadata": {},
   "outputs": [
    {
     "name": "stdout",
     "output_type": "stream",
     "text": [
      "['DynaMINT', 'DynaMINT', 'DynaMOBS', 'DynaMORE', 'DynaMORE', 'DynaMORE', 'DynaMORE', 'DynaMORE', 'ESMBruno-EPI-KCL-s1', 'Epilepsy-ESM-Study_aRMT', 'MS_TEST', 'MS_TEST', 'MS_TEST', 'MS_TEST', 'MS_TEST', 'MS_TEST', 'RADAR-ART-KCL-s1', 'RADAR-ART-KCL-s1', 'RADAR-ART-KCL-s1', 'RADAR-ART-KCL-s1', 'RADAR-ART-KCL-s1', 'RADAR-ART-KCL-s1', 'RADAR-RAPID-KCL-s1', 'RADAR-RAPID-KCL-s1', 'STAGING_PROJECT', 'STAGING_PROJECT', 'STAGING_PROJECT', 'STAGING_PROJECT', 'STAGING_PROJECT', 'STAGING_PROJECT', 'STAGING_PROJECT']\n"
     ]
    }
   ],
   "source": [
    "# Drop all columns not part of RADAR-CNS\n",
    "\n",
    "projects_to_discard = [project for project in project_grouped_df_agg.index.get_level_values('projectId') if project not in ALL_RADAR_CNS ]\n",
    "print(projects_to_discard)\n",
    "project_grouped_df_agg = project_grouped_df_agg.drop(labels=projects_to_discard, axis=0, level='projectId')"
   ]
  },
  {
   "cell_type": "code",
   "execution_count": 75,
   "metadata": {},
   "outputs": [
    {
     "data": {
      "text/plain": "                               engagement_time_sum_min  user_pseudo_id_count  \\\nprojectId          index                                                       \nRADAR-MDD-CIBER-s1 2019-11-30               637.068833                    85   \n                   2019-12-19               959.227733                    81   \n                   2020-01-07               880.422017                    83   \n                   2020-01-26              1131.355483                    82   \n                   2020-02-14               805.304067                    88   \n\n                               engagement_per_user  \nprojectId          index                            \nRADAR-MDD-CIBER-s1 2019-11-30             7.494927  \n                   2019-12-19            11.842318  \n                   2020-01-07            10.607494  \n                   2020-01-26            13.797018  \n                   2020-02-14             9.151183  ",
      "text/html": "<div>\n<style scoped>\n    .dataframe tbody tr th:only-of-type {\n        vertical-align: middle;\n    }\n\n    .dataframe tbody tr th {\n        vertical-align: top;\n    }\n\n    .dataframe thead th {\n        text-align: right;\n    }\n</style>\n<table border=\"1\" class=\"dataframe\">\n  <thead>\n    <tr style=\"text-align: right;\">\n      <th></th>\n      <th></th>\n      <th>engagement_time_sum_min</th>\n      <th>user_pseudo_id_count</th>\n      <th>engagement_per_user</th>\n    </tr>\n    <tr>\n      <th>projectId</th>\n      <th>index</th>\n      <th></th>\n      <th></th>\n      <th></th>\n    </tr>\n  </thead>\n  <tbody>\n    <tr>\n      <th rowspan=\"5\" valign=\"top\">RADAR-MDD-CIBER-s1</th>\n      <th>2019-11-30</th>\n      <td>637.068833</td>\n      <td>85</td>\n      <td>7.494927</td>\n    </tr>\n    <tr>\n      <th>2019-12-19</th>\n      <td>959.227733</td>\n      <td>81</td>\n      <td>11.842318</td>\n    </tr>\n    <tr>\n      <th>2020-01-07</th>\n      <td>880.422017</td>\n      <td>83</td>\n      <td>10.607494</td>\n    </tr>\n    <tr>\n      <th>2020-01-26</th>\n      <td>1131.355483</td>\n      <td>82</td>\n      <td>13.797018</td>\n    </tr>\n    <tr>\n      <th>2020-02-14</th>\n      <td>805.304067</td>\n      <td>88</td>\n      <td>9.151183</td>\n    </tr>\n  </tbody>\n</table>\n</div>"
     },
     "execution_count": 75,
     "metadata": {},
     "output_type": "execute_result"
    }
   ],
   "source": [
    "project_grouped_df_agg.head()"
   ]
  },
  {
   "cell_type": "code",
   "execution_count": 76,
   "metadata": {},
   "outputs": [],
   "source": [
    "# Calculate notifications opened per user per project\n",
    "\n",
    "user_notif_project_df = processed_df_2[(processed_df_2['event_name'] == 'notification_open') & (processed_df_2['message_type'] == 'fcm')]\n",
    "project_grouped_notif_df = user_notif_project_df.groupby(['projectId', pd.Grouper(freq='19D')])"
   ]
  },
  {
   "cell_type": "code",
   "execution_count": 77,
   "metadata": {},
   "outputs": [],
   "source": [
    "# Aggregate notif as count and count the number of unique users\n",
    "project_grouped_notif_df_agg = project_grouped_notif_df.agg(notif_open_count=pd.NamedAgg(column='event_name', aggfunc='count'),\n",
    "                                user_pseudo_id_count=pd.NamedAgg(column='user_pseudo_id', aggfunc= lambda x: x.nunique()))"
   ]
  },
  {
   "cell_type": "code",
   "execution_count": 78,
   "metadata": {},
   "outputs": [],
   "source": [
    "project_grouped_notif_df_agg['notif_open_per_user'] = project_grouped_notif_df_agg['notif_open_count'] / project_grouped_notif_df_agg['user_pseudo_id_count']"
   ]
  },
  {
   "cell_type": "code",
   "execution_count": 79,
   "metadata": {},
   "outputs": [
    {
     "ename": "KeyError",
     "evalue": "\"labels ['DynaMINT' 'DynaMINT' 'Epilepsy-ESM-Study_aRMT'] not found in level\"",
     "output_type": "error",
     "traceback": [
      "\u001B[0;31m---------------------------------------------------------------------------\u001B[0m",
      "\u001B[0;31mKeyError\u001B[0m                                  Traceback (most recent call last)",
      "\u001B[0;32m<ipython-input-79-766b5ada5232>\u001B[0m in \u001B[0;36m<module>\u001B[0;34m\u001B[0m\n\u001B[0;32m----> 1\u001B[0;31m \u001B[0mproject_grouped_notif_df_agg\u001B[0m \u001B[0;34m=\u001B[0m \u001B[0mproject_grouped_notif_df_agg\u001B[0m\u001B[0;34m.\u001B[0m\u001B[0mdrop\u001B[0m\u001B[0;34m(\u001B[0m\u001B[0mlabels\u001B[0m\u001B[0;34m=\u001B[0m\u001B[0mprojects_to_discard\u001B[0m\u001B[0;34m,\u001B[0m \u001B[0maxis\u001B[0m\u001B[0;34m=\u001B[0m\u001B[0;36m0\u001B[0m\u001B[0;34m,\u001B[0m \u001B[0mlevel\u001B[0m\u001B[0;34m=\u001B[0m\u001B[0;34m'projectId'\u001B[0m\u001B[0;34m)\u001B[0m\u001B[0;34m\u001B[0m\u001B[0;34m\u001B[0m\u001B[0m\n\u001B[0m\u001B[1;32m      2\u001B[0m \u001B[0;34m\u001B[0m\u001B[0m\n",
      "\u001B[0;32m~/PycharmProjects/Firebase-events-analysis/venv/lib/python3.8/site-packages/pandas/core/frame.py\u001B[0m in \u001B[0;36mdrop\u001B[0;34m(self, labels, axis, index, columns, level, inplace, errors)\u001B[0m\n\u001B[1;32m   4306\u001B[0m                 \u001B[0mweight\u001B[0m  \u001B[0;36m1.0\u001B[0m     \u001B[0;36m0.8\u001B[0m\u001B[0;34m\u001B[0m\u001B[0;34m\u001B[0m\u001B[0m\n\u001B[1;32m   4307\u001B[0m         \"\"\"\n\u001B[0;32m-> 4308\u001B[0;31m         return super().drop(\n\u001B[0m\u001B[1;32m   4309\u001B[0m             \u001B[0mlabels\u001B[0m\u001B[0;34m=\u001B[0m\u001B[0mlabels\u001B[0m\u001B[0;34m,\u001B[0m\u001B[0;34m\u001B[0m\u001B[0;34m\u001B[0m\u001B[0m\n\u001B[1;32m   4310\u001B[0m             \u001B[0maxis\u001B[0m\u001B[0;34m=\u001B[0m\u001B[0maxis\u001B[0m\u001B[0;34m,\u001B[0m\u001B[0;34m\u001B[0m\u001B[0;34m\u001B[0m\u001B[0m\n",
      "\u001B[0;32m~/PycharmProjects/Firebase-events-analysis/venv/lib/python3.8/site-packages/pandas/core/generic.py\u001B[0m in \u001B[0;36mdrop\u001B[0;34m(self, labels, axis, index, columns, level, inplace, errors)\u001B[0m\n\u001B[1;32m   4151\u001B[0m         \u001B[0;32mfor\u001B[0m \u001B[0maxis\u001B[0m\u001B[0;34m,\u001B[0m \u001B[0mlabels\u001B[0m \u001B[0;32min\u001B[0m \u001B[0maxes\u001B[0m\u001B[0;34m.\u001B[0m\u001B[0mitems\u001B[0m\u001B[0;34m(\u001B[0m\u001B[0;34m)\u001B[0m\u001B[0;34m:\u001B[0m\u001B[0;34m\u001B[0m\u001B[0;34m\u001B[0m\u001B[0m\n\u001B[1;32m   4152\u001B[0m             \u001B[0;32mif\u001B[0m \u001B[0mlabels\u001B[0m \u001B[0;32mis\u001B[0m \u001B[0;32mnot\u001B[0m \u001B[0;32mNone\u001B[0m\u001B[0;34m:\u001B[0m\u001B[0;34m\u001B[0m\u001B[0;34m\u001B[0m\u001B[0m\n\u001B[0;32m-> 4153\u001B[0;31m                 \u001B[0mobj\u001B[0m \u001B[0;34m=\u001B[0m \u001B[0mobj\u001B[0m\u001B[0;34m.\u001B[0m\u001B[0m_drop_axis\u001B[0m\u001B[0;34m(\u001B[0m\u001B[0mlabels\u001B[0m\u001B[0;34m,\u001B[0m \u001B[0maxis\u001B[0m\u001B[0;34m,\u001B[0m \u001B[0mlevel\u001B[0m\u001B[0;34m=\u001B[0m\u001B[0mlevel\u001B[0m\u001B[0;34m,\u001B[0m \u001B[0merrors\u001B[0m\u001B[0;34m=\u001B[0m\u001B[0merrors\u001B[0m\u001B[0;34m)\u001B[0m\u001B[0;34m\u001B[0m\u001B[0;34m\u001B[0m\u001B[0m\n\u001B[0m\u001B[1;32m   4154\u001B[0m \u001B[0;34m\u001B[0m\u001B[0m\n\u001B[1;32m   4155\u001B[0m         \u001B[0;32mif\u001B[0m \u001B[0minplace\u001B[0m\u001B[0;34m:\u001B[0m\u001B[0;34m\u001B[0m\u001B[0;34m\u001B[0m\u001B[0m\n",
      "\u001B[0;32m~/PycharmProjects/Firebase-events-analysis/venv/lib/python3.8/site-packages/pandas/core/generic.py\u001B[0m in \u001B[0;36m_drop_axis\u001B[0;34m(self, labels, axis, level, errors)\u001B[0m\n\u001B[1;32m   4184\u001B[0m                 \u001B[0;32mif\u001B[0m \u001B[0;32mnot\u001B[0m \u001B[0misinstance\u001B[0m\u001B[0;34m(\u001B[0m\u001B[0maxis\u001B[0m\u001B[0;34m,\u001B[0m \u001B[0mMultiIndex\u001B[0m\u001B[0;34m)\u001B[0m\u001B[0;34m:\u001B[0m\u001B[0;34m\u001B[0m\u001B[0;34m\u001B[0m\u001B[0m\n\u001B[1;32m   4185\u001B[0m                     \u001B[0;32mraise\u001B[0m \u001B[0mAssertionError\u001B[0m\u001B[0;34m(\u001B[0m\u001B[0;34m\"axis must be a MultiIndex\"\u001B[0m\u001B[0;34m)\u001B[0m\u001B[0;34m\u001B[0m\u001B[0;34m\u001B[0m\u001B[0m\n\u001B[0;32m-> 4186\u001B[0;31m                 \u001B[0mnew_axis\u001B[0m \u001B[0;34m=\u001B[0m \u001B[0maxis\u001B[0m\u001B[0;34m.\u001B[0m\u001B[0mdrop\u001B[0m\u001B[0;34m(\u001B[0m\u001B[0mlabels\u001B[0m\u001B[0;34m,\u001B[0m \u001B[0mlevel\u001B[0m\u001B[0;34m=\u001B[0m\u001B[0mlevel\u001B[0m\u001B[0;34m,\u001B[0m \u001B[0merrors\u001B[0m\u001B[0;34m=\u001B[0m\u001B[0merrors\u001B[0m\u001B[0;34m)\u001B[0m\u001B[0;34m\u001B[0m\u001B[0;34m\u001B[0m\u001B[0m\n\u001B[0m\u001B[1;32m   4187\u001B[0m             \u001B[0;32melse\u001B[0m\u001B[0;34m:\u001B[0m\u001B[0;34m\u001B[0m\u001B[0;34m\u001B[0m\u001B[0m\n\u001B[1;32m   4188\u001B[0m                 \u001B[0mnew_axis\u001B[0m \u001B[0;34m=\u001B[0m \u001B[0maxis\u001B[0m\u001B[0;34m.\u001B[0m\u001B[0mdrop\u001B[0m\u001B[0;34m(\u001B[0m\u001B[0mlabels\u001B[0m\u001B[0;34m,\u001B[0m \u001B[0merrors\u001B[0m\u001B[0;34m=\u001B[0m\u001B[0merrors\u001B[0m\u001B[0;34m)\u001B[0m\u001B[0;34m\u001B[0m\u001B[0;34m\u001B[0m\u001B[0m\n",
      "\u001B[0;32m~/PycharmProjects/Firebase-events-analysis/venv/lib/python3.8/site-packages/pandas/core/indexes/multi.py\u001B[0m in \u001B[0;36mdrop\u001B[0;34m(self, codes, level, errors)\u001B[0m\n\u001B[1;32m   2151\u001B[0m         \"\"\"\n\u001B[1;32m   2152\u001B[0m         \u001B[0;32mif\u001B[0m \u001B[0mlevel\u001B[0m \u001B[0;32mis\u001B[0m \u001B[0;32mnot\u001B[0m \u001B[0;32mNone\u001B[0m\u001B[0;34m:\u001B[0m\u001B[0;34m\u001B[0m\u001B[0;34m\u001B[0m\u001B[0m\n\u001B[0;32m-> 2153\u001B[0;31m             \u001B[0;32mreturn\u001B[0m \u001B[0mself\u001B[0m\u001B[0;34m.\u001B[0m\u001B[0m_drop_from_level\u001B[0m\u001B[0;34m(\u001B[0m\u001B[0mcodes\u001B[0m\u001B[0;34m,\u001B[0m \u001B[0mlevel\u001B[0m\u001B[0;34m,\u001B[0m \u001B[0merrors\u001B[0m\u001B[0;34m)\u001B[0m\u001B[0;34m\u001B[0m\u001B[0;34m\u001B[0m\u001B[0m\n\u001B[0m\u001B[1;32m   2154\u001B[0m \u001B[0;34m\u001B[0m\u001B[0m\n\u001B[1;32m   2155\u001B[0m         \u001B[0;32mif\u001B[0m \u001B[0;32mnot\u001B[0m \u001B[0misinstance\u001B[0m\u001B[0;34m(\u001B[0m\u001B[0mcodes\u001B[0m\u001B[0;34m,\u001B[0m \u001B[0;34m(\u001B[0m\u001B[0mnp\u001B[0m\u001B[0;34m.\u001B[0m\u001B[0mndarray\u001B[0m\u001B[0;34m,\u001B[0m \u001B[0mIndex\u001B[0m\u001B[0;34m)\u001B[0m\u001B[0;34m)\u001B[0m\u001B[0;34m:\u001B[0m\u001B[0;34m\u001B[0m\u001B[0;34m\u001B[0m\u001B[0m\n",
      "\u001B[0;32m~/PycharmProjects/Firebase-events-analysis/venv/lib/python3.8/site-packages/pandas/core/indexes/multi.py\u001B[0m in \u001B[0;36m_drop_from_level\u001B[0;34m(self, codes, level, errors)\u001B[0m\n\u001B[1;32m   2203\u001B[0m         \u001B[0mnot_found\u001B[0m \u001B[0;34m=\u001B[0m \u001B[0mcodes\u001B[0m\u001B[0;34m[\u001B[0m\u001B[0mvalues\u001B[0m \u001B[0;34m==\u001B[0m \u001B[0;34m-\u001B[0m\u001B[0;36m2\u001B[0m\u001B[0;34m]\u001B[0m\u001B[0;34m\u001B[0m\u001B[0;34m\u001B[0m\u001B[0m\n\u001B[1;32m   2204\u001B[0m         \u001B[0;32mif\u001B[0m \u001B[0mlen\u001B[0m\u001B[0;34m(\u001B[0m\u001B[0mnot_found\u001B[0m\u001B[0;34m)\u001B[0m \u001B[0;34m!=\u001B[0m \u001B[0;36m0\u001B[0m \u001B[0;32mand\u001B[0m \u001B[0merrors\u001B[0m \u001B[0;34m!=\u001B[0m \u001B[0;34m\"ignore\"\u001B[0m\u001B[0;34m:\u001B[0m\u001B[0;34m\u001B[0m\u001B[0;34m\u001B[0m\u001B[0m\n\u001B[0;32m-> 2205\u001B[0;31m             \u001B[0;32mraise\u001B[0m \u001B[0mKeyError\u001B[0m\u001B[0;34m(\u001B[0m\u001B[0;34mf\"labels {not_found} not found in level\"\u001B[0m\u001B[0;34m)\u001B[0m\u001B[0;34m\u001B[0m\u001B[0;34m\u001B[0m\u001B[0m\n\u001B[0m\u001B[1;32m   2206\u001B[0m         \u001B[0mmask\u001B[0m \u001B[0;34m=\u001B[0m \u001B[0;34m~\u001B[0m\u001B[0malgos\u001B[0m\u001B[0;34m.\u001B[0m\u001B[0misin\u001B[0m\u001B[0;34m(\u001B[0m\u001B[0mself\u001B[0m\u001B[0;34m.\u001B[0m\u001B[0mcodes\u001B[0m\u001B[0;34m[\u001B[0m\u001B[0mi\u001B[0m\u001B[0;34m]\u001B[0m\u001B[0;34m,\u001B[0m \u001B[0mvalues\u001B[0m\u001B[0;34m)\u001B[0m\u001B[0;34m\u001B[0m\u001B[0;34m\u001B[0m\u001B[0m\n\u001B[1;32m   2207\u001B[0m \u001B[0;34m\u001B[0m\u001B[0m\n",
      "\u001B[0;31mKeyError\u001B[0m: \"labels ['DynaMINT' 'DynaMINT' 'Epilepsy-ESM-Study_aRMT'] not found in level\""
     ]
    }
   ],
   "source": [
    "# already dropped in ln.426 (error)\n",
    "project_grouped_notif_df_agg = project_grouped_notif_df_agg.drop(labels=projects_to_discard, axis=0, level='projectId')"
   ]
  },
  {
   "cell_type": "code",
   "execution_count": 82,
   "metadata": {},
   "outputs": [
    {
     "data": {
      "text/plain": "                      notif_open_count  user_pseudo_id_count  \\\nprojectId index                                                \nDynaMOBS  2020-03-04                 7                     1   \nDynaMORE  2020-01-07                 8                     1   \n          2020-01-26                10                     4   \n          2020-02-14                84                     7   \n          2020-03-04               102                     6   \n\n                      notif_open_per_user  \nprojectId index                            \nDynaMOBS  2020-03-04                  7.0  \nDynaMORE  2020-01-07                  8.0  \n          2020-01-26                  2.5  \n          2020-02-14                 12.0  \n          2020-03-04                 17.0  ",
      "text/html": "<div>\n<style scoped>\n    .dataframe tbody tr th:only-of-type {\n        vertical-align: middle;\n    }\n\n    .dataframe tbody tr th {\n        vertical-align: top;\n    }\n\n    .dataframe thead th {\n        text-align: right;\n    }\n</style>\n<table border=\"1\" class=\"dataframe\">\n  <thead>\n    <tr style=\"text-align: right;\">\n      <th></th>\n      <th></th>\n      <th>notif_open_count</th>\n      <th>user_pseudo_id_count</th>\n      <th>notif_open_per_user</th>\n    </tr>\n    <tr>\n      <th>projectId</th>\n      <th>index</th>\n      <th></th>\n      <th></th>\n      <th></th>\n    </tr>\n  </thead>\n  <tbody>\n    <tr>\n      <th>DynaMOBS</th>\n      <th>2020-03-04</th>\n      <td>7</td>\n      <td>1</td>\n      <td>7.0</td>\n    </tr>\n    <tr>\n      <th rowspan=\"4\" valign=\"top\">DynaMORE</th>\n      <th>2020-01-07</th>\n      <td>8</td>\n      <td>1</td>\n      <td>8.0</td>\n    </tr>\n    <tr>\n      <th>2020-01-26</th>\n      <td>10</td>\n      <td>4</td>\n      <td>2.5</td>\n    </tr>\n    <tr>\n      <th>2020-02-14</th>\n      <td>84</td>\n      <td>7</td>\n      <td>12.0</td>\n    </tr>\n    <tr>\n      <th>2020-03-04</th>\n      <td>102</td>\n      <td>6</td>\n      <td>17.0</td>\n    </tr>\n  </tbody>\n</table>\n</div>"
     },
     "execution_count": 82,
     "metadata": {},
     "output_type": "execute_result"
    }
   ],
   "source": [
    "project_grouped_notif_df_agg.head()"
   ]
  },
  {
   "cell_type": "code",
   "execution_count": 84,
   "metadata": {},
   "outputs": [],
   "source": [
    "notifs_received_df = processed_df_2[(processed_df_2['event_name'] == 'notification_receive') &\n",
    "                                    (processed_df_2['message_type'] == 'display')]\n",
    "project_grouped_notifs_received_df = notifs_received_df.groupby(['projectId', pd.Grouper(freq='19D')])"
   ]
  },
  {
   "cell_type": "code",
   "execution_count": 85,
   "metadata": {},
   "outputs": [],
   "source": [
    "# Aggregate notif as count and count the number of unique users\n",
    "project_grouped_notifs_received_df_agg = project_grouped_notifs_received_df.agg(notif_receive_count=pd.NamedAgg(column='event_name', aggfunc='count'),\n",
    "                                user_pseudo_id_count=pd.NamedAgg(column='user_pseudo_id', aggfunc= lambda x: x.nunique()))"
   ]
  },
  {
   "cell_type": "code",
   "execution_count": 86,
   "metadata": {},
   "outputs": [
    {
     "ename": "KeyError",
     "evalue": "\"labels ['DynaMINT' 'DynaMINT' 'Epilepsy-ESM-Study_aRMT'] not found in level\"",
     "output_type": "error",
     "traceback": [
      "\u001B[0;31m---------------------------------------------------------------------------\u001B[0m",
      "\u001B[0;31mKeyError\u001B[0m                                  Traceback (most recent call last)",
      "\u001B[0;32m<ipython-input-86-0bb2eacb14ae>\u001B[0m in \u001B[0;36m<module>\u001B[0;34m\u001B[0m\n\u001B[0;32m----> 1\u001B[0;31m \u001B[0mproject_grouped_notifs_received_df_agg\u001B[0m \u001B[0;34m=\u001B[0m \u001B[0mproject_grouped_notifs_received_df_agg\u001B[0m\u001B[0;34m.\u001B[0m\u001B[0mdrop\u001B[0m\u001B[0;34m(\u001B[0m\u001B[0mlabels\u001B[0m\u001B[0;34m=\u001B[0m\u001B[0mprojects_to_discard\u001B[0m\u001B[0;34m,\u001B[0m \u001B[0maxis\u001B[0m\u001B[0;34m=\u001B[0m\u001B[0;36m0\u001B[0m\u001B[0;34m,\u001B[0m \u001B[0mlevel\u001B[0m\u001B[0;34m=\u001B[0m\u001B[0;34m'projectId'\u001B[0m\u001B[0;34m)\u001B[0m\u001B[0;34m\u001B[0m\u001B[0;34m\u001B[0m\u001B[0m\n\u001B[0m\u001B[1;32m      2\u001B[0m \u001B[0;34m\u001B[0m\u001B[0m\n",
      "\u001B[0;32m~/PycharmProjects/Firebase-events-analysis/venv/lib/python3.8/site-packages/pandas/core/frame.py\u001B[0m in \u001B[0;36mdrop\u001B[0;34m(self, labels, axis, index, columns, level, inplace, errors)\u001B[0m\n\u001B[1;32m   4306\u001B[0m                 \u001B[0mweight\u001B[0m  \u001B[0;36m1.0\u001B[0m     \u001B[0;36m0.8\u001B[0m\u001B[0;34m\u001B[0m\u001B[0;34m\u001B[0m\u001B[0m\n\u001B[1;32m   4307\u001B[0m         \"\"\"\n\u001B[0;32m-> 4308\u001B[0;31m         return super().drop(\n\u001B[0m\u001B[1;32m   4309\u001B[0m             \u001B[0mlabels\u001B[0m\u001B[0;34m=\u001B[0m\u001B[0mlabels\u001B[0m\u001B[0;34m,\u001B[0m\u001B[0;34m\u001B[0m\u001B[0;34m\u001B[0m\u001B[0m\n\u001B[1;32m   4310\u001B[0m             \u001B[0maxis\u001B[0m\u001B[0;34m=\u001B[0m\u001B[0maxis\u001B[0m\u001B[0;34m,\u001B[0m\u001B[0;34m\u001B[0m\u001B[0;34m\u001B[0m\u001B[0m\n",
      "\u001B[0;32m~/PycharmProjects/Firebase-events-analysis/venv/lib/python3.8/site-packages/pandas/core/generic.py\u001B[0m in \u001B[0;36mdrop\u001B[0;34m(self, labels, axis, index, columns, level, inplace, errors)\u001B[0m\n\u001B[1;32m   4151\u001B[0m         \u001B[0;32mfor\u001B[0m \u001B[0maxis\u001B[0m\u001B[0;34m,\u001B[0m \u001B[0mlabels\u001B[0m \u001B[0;32min\u001B[0m \u001B[0maxes\u001B[0m\u001B[0;34m.\u001B[0m\u001B[0mitems\u001B[0m\u001B[0;34m(\u001B[0m\u001B[0;34m)\u001B[0m\u001B[0;34m:\u001B[0m\u001B[0;34m\u001B[0m\u001B[0;34m\u001B[0m\u001B[0m\n\u001B[1;32m   4152\u001B[0m             \u001B[0;32mif\u001B[0m \u001B[0mlabels\u001B[0m \u001B[0;32mis\u001B[0m \u001B[0;32mnot\u001B[0m \u001B[0;32mNone\u001B[0m\u001B[0;34m:\u001B[0m\u001B[0;34m\u001B[0m\u001B[0;34m\u001B[0m\u001B[0m\n\u001B[0;32m-> 4153\u001B[0;31m                 \u001B[0mobj\u001B[0m \u001B[0;34m=\u001B[0m \u001B[0mobj\u001B[0m\u001B[0;34m.\u001B[0m\u001B[0m_drop_axis\u001B[0m\u001B[0;34m(\u001B[0m\u001B[0mlabels\u001B[0m\u001B[0;34m,\u001B[0m \u001B[0maxis\u001B[0m\u001B[0;34m,\u001B[0m \u001B[0mlevel\u001B[0m\u001B[0;34m=\u001B[0m\u001B[0mlevel\u001B[0m\u001B[0;34m,\u001B[0m \u001B[0merrors\u001B[0m\u001B[0;34m=\u001B[0m\u001B[0merrors\u001B[0m\u001B[0;34m)\u001B[0m\u001B[0;34m\u001B[0m\u001B[0;34m\u001B[0m\u001B[0m\n\u001B[0m\u001B[1;32m   4154\u001B[0m \u001B[0;34m\u001B[0m\u001B[0m\n\u001B[1;32m   4155\u001B[0m         \u001B[0;32mif\u001B[0m \u001B[0minplace\u001B[0m\u001B[0;34m:\u001B[0m\u001B[0;34m\u001B[0m\u001B[0;34m\u001B[0m\u001B[0m\n",
      "\u001B[0;32m~/PycharmProjects/Firebase-events-analysis/venv/lib/python3.8/site-packages/pandas/core/generic.py\u001B[0m in \u001B[0;36m_drop_axis\u001B[0;34m(self, labels, axis, level, errors)\u001B[0m\n\u001B[1;32m   4184\u001B[0m                 \u001B[0;32mif\u001B[0m \u001B[0;32mnot\u001B[0m \u001B[0misinstance\u001B[0m\u001B[0;34m(\u001B[0m\u001B[0maxis\u001B[0m\u001B[0;34m,\u001B[0m \u001B[0mMultiIndex\u001B[0m\u001B[0;34m)\u001B[0m\u001B[0;34m:\u001B[0m\u001B[0;34m\u001B[0m\u001B[0;34m\u001B[0m\u001B[0m\n\u001B[1;32m   4185\u001B[0m                     \u001B[0;32mraise\u001B[0m \u001B[0mAssertionError\u001B[0m\u001B[0;34m(\u001B[0m\u001B[0;34m\"axis must be a MultiIndex\"\u001B[0m\u001B[0;34m)\u001B[0m\u001B[0;34m\u001B[0m\u001B[0;34m\u001B[0m\u001B[0m\n\u001B[0;32m-> 4186\u001B[0;31m                 \u001B[0mnew_axis\u001B[0m \u001B[0;34m=\u001B[0m \u001B[0maxis\u001B[0m\u001B[0;34m.\u001B[0m\u001B[0mdrop\u001B[0m\u001B[0;34m(\u001B[0m\u001B[0mlabels\u001B[0m\u001B[0;34m,\u001B[0m \u001B[0mlevel\u001B[0m\u001B[0;34m=\u001B[0m\u001B[0mlevel\u001B[0m\u001B[0;34m,\u001B[0m \u001B[0merrors\u001B[0m\u001B[0;34m=\u001B[0m\u001B[0merrors\u001B[0m\u001B[0;34m)\u001B[0m\u001B[0;34m\u001B[0m\u001B[0;34m\u001B[0m\u001B[0m\n\u001B[0m\u001B[1;32m   4187\u001B[0m             \u001B[0;32melse\u001B[0m\u001B[0;34m:\u001B[0m\u001B[0;34m\u001B[0m\u001B[0;34m\u001B[0m\u001B[0m\n\u001B[1;32m   4188\u001B[0m                 \u001B[0mnew_axis\u001B[0m \u001B[0;34m=\u001B[0m \u001B[0maxis\u001B[0m\u001B[0;34m.\u001B[0m\u001B[0mdrop\u001B[0m\u001B[0;34m(\u001B[0m\u001B[0mlabels\u001B[0m\u001B[0;34m,\u001B[0m \u001B[0merrors\u001B[0m\u001B[0;34m=\u001B[0m\u001B[0merrors\u001B[0m\u001B[0;34m)\u001B[0m\u001B[0;34m\u001B[0m\u001B[0;34m\u001B[0m\u001B[0m\n",
      "\u001B[0;32m~/PycharmProjects/Firebase-events-analysis/venv/lib/python3.8/site-packages/pandas/core/indexes/multi.py\u001B[0m in \u001B[0;36mdrop\u001B[0;34m(self, codes, level, errors)\u001B[0m\n\u001B[1;32m   2151\u001B[0m         \"\"\"\n\u001B[1;32m   2152\u001B[0m         \u001B[0;32mif\u001B[0m \u001B[0mlevel\u001B[0m \u001B[0;32mis\u001B[0m \u001B[0;32mnot\u001B[0m \u001B[0;32mNone\u001B[0m\u001B[0;34m:\u001B[0m\u001B[0;34m\u001B[0m\u001B[0;34m\u001B[0m\u001B[0m\n\u001B[0;32m-> 2153\u001B[0;31m             \u001B[0;32mreturn\u001B[0m \u001B[0mself\u001B[0m\u001B[0;34m.\u001B[0m\u001B[0m_drop_from_level\u001B[0m\u001B[0;34m(\u001B[0m\u001B[0mcodes\u001B[0m\u001B[0;34m,\u001B[0m \u001B[0mlevel\u001B[0m\u001B[0;34m,\u001B[0m \u001B[0merrors\u001B[0m\u001B[0;34m)\u001B[0m\u001B[0;34m\u001B[0m\u001B[0;34m\u001B[0m\u001B[0m\n\u001B[0m\u001B[1;32m   2154\u001B[0m \u001B[0;34m\u001B[0m\u001B[0m\n\u001B[1;32m   2155\u001B[0m         \u001B[0;32mif\u001B[0m \u001B[0;32mnot\u001B[0m \u001B[0misinstance\u001B[0m\u001B[0;34m(\u001B[0m\u001B[0mcodes\u001B[0m\u001B[0;34m,\u001B[0m \u001B[0;34m(\u001B[0m\u001B[0mnp\u001B[0m\u001B[0;34m.\u001B[0m\u001B[0mndarray\u001B[0m\u001B[0;34m,\u001B[0m \u001B[0mIndex\u001B[0m\u001B[0;34m)\u001B[0m\u001B[0;34m)\u001B[0m\u001B[0;34m:\u001B[0m\u001B[0;34m\u001B[0m\u001B[0;34m\u001B[0m\u001B[0m\n",
      "\u001B[0;32m~/PycharmProjects/Firebase-events-analysis/venv/lib/python3.8/site-packages/pandas/core/indexes/multi.py\u001B[0m in \u001B[0;36m_drop_from_level\u001B[0;34m(self, codes, level, errors)\u001B[0m\n\u001B[1;32m   2203\u001B[0m         \u001B[0mnot_found\u001B[0m \u001B[0;34m=\u001B[0m \u001B[0mcodes\u001B[0m\u001B[0;34m[\u001B[0m\u001B[0mvalues\u001B[0m \u001B[0;34m==\u001B[0m \u001B[0;34m-\u001B[0m\u001B[0;36m2\u001B[0m\u001B[0;34m]\u001B[0m\u001B[0;34m\u001B[0m\u001B[0;34m\u001B[0m\u001B[0m\n\u001B[1;32m   2204\u001B[0m         \u001B[0;32mif\u001B[0m \u001B[0mlen\u001B[0m\u001B[0;34m(\u001B[0m\u001B[0mnot_found\u001B[0m\u001B[0;34m)\u001B[0m \u001B[0;34m!=\u001B[0m \u001B[0;36m0\u001B[0m \u001B[0;32mand\u001B[0m \u001B[0merrors\u001B[0m \u001B[0;34m!=\u001B[0m \u001B[0;34m\"ignore\"\u001B[0m\u001B[0;34m:\u001B[0m\u001B[0;34m\u001B[0m\u001B[0;34m\u001B[0m\u001B[0m\n\u001B[0;32m-> 2205\u001B[0;31m             \u001B[0;32mraise\u001B[0m \u001B[0mKeyError\u001B[0m\u001B[0;34m(\u001B[0m\u001B[0;34mf\"labels {not_found} not found in level\"\u001B[0m\u001B[0;34m)\u001B[0m\u001B[0;34m\u001B[0m\u001B[0;34m\u001B[0m\u001B[0m\n\u001B[0m\u001B[1;32m   2206\u001B[0m         \u001B[0mmask\u001B[0m \u001B[0;34m=\u001B[0m \u001B[0;34m~\u001B[0m\u001B[0malgos\u001B[0m\u001B[0;34m.\u001B[0m\u001B[0misin\u001B[0m\u001B[0;34m(\u001B[0m\u001B[0mself\u001B[0m\u001B[0;34m.\u001B[0m\u001B[0mcodes\u001B[0m\u001B[0;34m[\u001B[0m\u001B[0mi\u001B[0m\u001B[0;34m]\u001B[0m\u001B[0;34m,\u001B[0m \u001B[0mvalues\u001B[0m\u001B[0;34m)\u001B[0m\u001B[0;34m\u001B[0m\u001B[0;34m\u001B[0m\u001B[0m\n\u001B[1;32m   2207\u001B[0m \u001B[0;34m\u001B[0m\u001B[0m\n",
      "\u001B[0;31mKeyError\u001B[0m: \"labels ['DynaMINT' 'DynaMINT' 'Epilepsy-ESM-Study_aRMT'] not found in level\""
     ]
    }
   ],
   "source": [
    "# already dropped in ln.426 (error)\n",
    "project_grouped_notifs_received_df_agg = project_grouped_notifs_received_df_agg.drop(labels=projects_to_discard, axis=0, level='projectId')"
   ]
  },
  {
   "cell_type": "code",
   "execution_count": null,
   "metadata": {},
   "outputs": [],
   "source": [
    "project_grouped_notif_df_agg['percent_open'] = project_grouped_notif_df_agg['notif_open_count'] / project_grouped_notifs_received_df_agg['notif_receive_count']"
   ]
  },
  {
   "cell_type": "code",
   "execution_count": 87,
   "metadata": {},
   "outputs": [
    {
     "data": {
      "text/plain": "                      notif_open_count  user_pseudo_id_count  \\\nprojectId index                                                \nDynaMOBS  2020-03-04                 7                     1   \nDynaMORE  2020-01-07                 8                     1   \n          2020-01-26                10                     4   \n          2020-02-14                84                     7   \n          2020-03-04               102                     6   \n\n                      notif_open_per_user  \nprojectId index                            \nDynaMOBS  2020-03-04                  7.0  \nDynaMORE  2020-01-07                  8.0  \n          2020-01-26                  2.5  \n          2020-02-14                 12.0  \n          2020-03-04                 17.0  ",
      "text/html": "<div>\n<style scoped>\n    .dataframe tbody tr th:only-of-type {\n        vertical-align: middle;\n    }\n\n    .dataframe tbody tr th {\n        vertical-align: top;\n    }\n\n    .dataframe thead th {\n        text-align: right;\n    }\n</style>\n<table border=\"1\" class=\"dataframe\">\n  <thead>\n    <tr style=\"text-align: right;\">\n      <th></th>\n      <th></th>\n      <th>notif_open_count</th>\n      <th>user_pseudo_id_count</th>\n      <th>notif_open_per_user</th>\n    </tr>\n    <tr>\n      <th>projectId</th>\n      <th>index</th>\n      <th></th>\n      <th></th>\n      <th></th>\n    </tr>\n  </thead>\n  <tbody>\n    <tr>\n      <th>DynaMOBS</th>\n      <th>2020-03-04</th>\n      <td>7</td>\n      <td>1</td>\n      <td>7.0</td>\n    </tr>\n    <tr>\n      <th rowspan=\"4\" valign=\"top\">DynaMORE</th>\n      <th>2020-01-07</th>\n      <td>8</td>\n      <td>1</td>\n      <td>8.0</td>\n    </tr>\n    <tr>\n      <th>2020-01-26</th>\n      <td>10</td>\n      <td>4</td>\n      <td>2.5</td>\n    </tr>\n    <tr>\n      <th>2020-02-14</th>\n      <td>84</td>\n      <td>7</td>\n      <td>12.0</td>\n    </tr>\n    <tr>\n      <th>2020-03-04</th>\n      <td>102</td>\n      <td>6</td>\n      <td>17.0</td>\n    </tr>\n  </tbody>\n</table>\n</div>"
     },
     "execution_count": 87,
     "metadata": {},
     "output_type": "execute_result"
    }
   ],
   "source": [
    "project_grouped_notif_df_agg.head()"
   ]
  },
  {
   "cell_type": "code",
   "execution_count": 88,
   "metadata": {},
   "outputs": [
    {
     "data": {
      "text/plain": "                      notif_receive_count  user_pseudo_id_count\nprojectId index                                                \nDynaMOBS  2020-03-04                   38                     1\nDynaMORE  2020-01-07                  408                     3\n          2020-01-26                  579                     5\n          2020-02-14                  786                     9\n          2020-03-04                  367                     6",
      "text/html": "<div>\n<style scoped>\n    .dataframe tbody tr th:only-of-type {\n        vertical-align: middle;\n    }\n\n    .dataframe tbody tr th {\n        vertical-align: top;\n    }\n\n    .dataframe thead th {\n        text-align: right;\n    }\n</style>\n<table border=\"1\" class=\"dataframe\">\n  <thead>\n    <tr style=\"text-align: right;\">\n      <th></th>\n      <th></th>\n      <th>notif_receive_count</th>\n      <th>user_pseudo_id_count</th>\n    </tr>\n    <tr>\n      <th>projectId</th>\n      <th>index</th>\n      <th></th>\n      <th></th>\n    </tr>\n  </thead>\n  <tbody>\n    <tr>\n      <th>DynaMOBS</th>\n      <th>2020-03-04</th>\n      <td>38</td>\n      <td>1</td>\n    </tr>\n    <tr>\n      <th rowspan=\"4\" valign=\"top\">DynaMORE</th>\n      <th>2020-01-07</th>\n      <td>408</td>\n      <td>3</td>\n    </tr>\n    <tr>\n      <th>2020-01-26</th>\n      <td>579</td>\n      <td>5</td>\n    </tr>\n    <tr>\n      <th>2020-02-14</th>\n      <td>786</td>\n      <td>9</td>\n    </tr>\n    <tr>\n      <th>2020-03-04</th>\n      <td>367</td>\n      <td>6</td>\n    </tr>\n  </tbody>\n</table>\n</div>"
     },
     "execution_count": 88,
     "metadata": {},
     "output_type": "execute_result"
    }
   ],
   "source": [
    "project_grouped_notifs_received_df_agg.head()"
   ]
  },
  {
   "cell_type": "code",
   "execution_count": 91,
   "metadata": {},
   "outputs": [],
   "source": [
    "def get_data_for_study(grouped_data: pd.DataFrame,\n",
    "                       study_names: list,\n",
    "                       aggregations: dict,\n",
    "                       days_to_add = 19):\n",
    "    data = grouped_data.loc[study_names, :]\n",
    "    data = data.reset_index(level='projectId')\n",
    "    data_agg = data.groupby('event_timestamp').agg(aggregations)\n",
    "    data_agg.index = data_agg.index + datetime.timedelta(days=days_to_add)\n",
    "    return data_agg\n",
    "    \n",
    "def plot_for_study(data:pd.DataFrame,\n",
    "                   column_name: str,\n",
    "                   title: str,\n",
    "                   ylabel: str,\n",
    "                   lockdown_rec: str,\n",
    "                   lockdown: str,\n",
    "                   xlabel='Time',\n",
    "                   figsize=(15, 4),\n",
    "                   ylim_min = 6,\n",
    "                   ylim_max = 23):\n",
    "    data[column_name].plot(figsize=(15, 4))\n",
    "\n",
    "    plt.title(title)\n",
    "\n",
    "    plt.xlabel(xlabel)\n",
    "    plt.ylabel(ylabel)\n",
    "\n",
    "    plt.xticks(['2019-11-15', '2019-12-01',\n",
    "                '2019-12-15', '2020-01-01',\n",
    "                '2020-01-15', '2020-02-01',\n",
    "                '2020-02-15', '2020-03-01',\n",
    "                '2020-03-15', '2020-04-01',\n",
    "                '2020-04-15'])\n",
    "    plt.vlines([lockdown_rec], ylim_min, ylim_max, linestyles='dashed', colors='g', label='National Recommendation')\n",
    "    plt.vlines([lockdown], ylim_min, ylim_max, linestyles='dashed', colors='r', label='National Lockdown')\n",
    "    plt.show()\n",
    "    "
   ]
  },
  {
   "cell_type": "code",
   "execution_count": 92,
   "metadata": {},
   "outputs": [
    {
     "ename": "KeyError",
     "evalue": "'event_timestamp'",
     "output_type": "error",
     "traceback": [
      "\u001B[0;31m---------------------------------------------------------------------------\u001B[0m",
      "\u001B[0;31mKeyError\u001B[0m                                  Traceback (most recent call last)",
      "\u001B[0;32m<ipython-input-92-d55f4bbe83b2>\u001B[0m in \u001B[0;36m<module>\u001B[0;34m\u001B[0m\n\u001B[1;32m      1\u001B[0m \u001B[0;31m# UK User engagement plot\u001B[0m\u001B[0;34m\u001B[0m\u001B[0;34m\u001B[0m\u001B[0;34m\u001B[0m\u001B[0m\n\u001B[0;32m----> 2\u001B[0;31m london_data = get_data_for_study(project_grouped_df_agg,\n\u001B[0m\u001B[1;32m      3\u001B[0m                                     \u001B[0mLONDON_UK\u001B[0m\u001B[0;34m,\u001B[0m\u001B[0;34m\u001B[0m\u001B[0;34m\u001B[0m\u001B[0m\n\u001B[1;32m      4\u001B[0m                                     {'engagement_time_sum_min' : 'sum', 'user_pseudo_id_count': 'sum'})\n\u001B[1;32m      5\u001B[0m \u001B[0mlondon_data\u001B[0m\u001B[0;34m[\u001B[0m\u001B[0;34m'engagement_per_user'\u001B[0m\u001B[0;34m]\u001B[0m \u001B[0;34m=\u001B[0m \u001B[0mlondon_data\u001B[0m\u001B[0;34m[\u001B[0m\u001B[0;34m'engagement_time_sum_min'\u001B[0m\u001B[0;34m]\u001B[0m \u001B[0;34m/\u001B[0m \u001B[0mlondon_data\u001B[0m\u001B[0;34m[\u001B[0m\u001B[0;34m'user_pseudo_id_count'\u001B[0m\u001B[0;34m]\u001B[0m\u001B[0;34m\u001B[0m\u001B[0;34m\u001B[0m\u001B[0m\n",
      "\u001B[0;32m<ipython-input-91-e4aad1a27a9f>\u001B[0m in \u001B[0;36mget_data_for_study\u001B[0;34m(grouped_data, study_names, aggregations, days_to_add)\u001B[0m\n\u001B[1;32m      5\u001B[0m     \u001B[0mdata\u001B[0m \u001B[0;34m=\u001B[0m \u001B[0mgrouped_data\u001B[0m\u001B[0;34m.\u001B[0m\u001B[0mloc\u001B[0m\u001B[0;34m[\u001B[0m\u001B[0mstudy_names\u001B[0m\u001B[0;34m,\u001B[0m \u001B[0;34m:\u001B[0m\u001B[0;34m]\u001B[0m\u001B[0;34m\u001B[0m\u001B[0;34m\u001B[0m\u001B[0m\n\u001B[1;32m      6\u001B[0m     \u001B[0mdata\u001B[0m \u001B[0;34m=\u001B[0m \u001B[0mdata\u001B[0m\u001B[0;34m.\u001B[0m\u001B[0mreset_index\u001B[0m\u001B[0;34m(\u001B[0m\u001B[0mlevel\u001B[0m\u001B[0;34m=\u001B[0m\u001B[0;34m'projectId'\u001B[0m\u001B[0;34m)\u001B[0m\u001B[0;34m\u001B[0m\u001B[0;34m\u001B[0m\u001B[0m\n\u001B[0;32m----> 7\u001B[0;31m     \u001B[0mdata_agg\u001B[0m \u001B[0;34m=\u001B[0m \u001B[0mdata\u001B[0m\u001B[0;34m.\u001B[0m\u001B[0mgroupby\u001B[0m\u001B[0;34m(\u001B[0m\u001B[0;34m'event_timestamp'\u001B[0m\u001B[0;34m)\u001B[0m\u001B[0;34m.\u001B[0m\u001B[0magg\u001B[0m\u001B[0;34m(\u001B[0m\u001B[0maggregations\u001B[0m\u001B[0;34m)\u001B[0m\u001B[0;34m\u001B[0m\u001B[0;34m\u001B[0m\u001B[0m\n\u001B[0m\u001B[1;32m      8\u001B[0m     \u001B[0mdata_agg\u001B[0m\u001B[0;34m.\u001B[0m\u001B[0mindex\u001B[0m \u001B[0;34m=\u001B[0m \u001B[0mdata_agg\u001B[0m\u001B[0;34m.\u001B[0m\u001B[0mindex\u001B[0m \u001B[0;34m+\u001B[0m \u001B[0mdatetime\u001B[0m\u001B[0;34m.\u001B[0m\u001B[0mtimedelta\u001B[0m\u001B[0;34m(\u001B[0m\u001B[0mdays\u001B[0m\u001B[0;34m=\u001B[0m\u001B[0mdays_to_add\u001B[0m\u001B[0;34m)\u001B[0m\u001B[0;34m\u001B[0m\u001B[0;34m\u001B[0m\u001B[0m\n\u001B[1;32m      9\u001B[0m     \u001B[0;32mreturn\u001B[0m \u001B[0mdata_agg\u001B[0m\u001B[0;34m\u001B[0m\u001B[0;34m\u001B[0m\u001B[0m\n",
      "\u001B[0;32m~/PycharmProjects/Firebase-events-analysis/venv/lib/python3.8/site-packages/pandas/core/frame.py\u001B[0m in \u001B[0;36mgroupby\u001B[0;34m(self, by, axis, level, as_index, sort, group_keys, squeeze, observed, dropna)\u001B[0m\n\u001B[1;32m   6715\u001B[0m         \u001B[0maxis\u001B[0m \u001B[0;34m=\u001B[0m \u001B[0mself\u001B[0m\u001B[0;34m.\u001B[0m\u001B[0m_get_axis_number\u001B[0m\u001B[0;34m(\u001B[0m\u001B[0maxis\u001B[0m\u001B[0;34m)\u001B[0m\u001B[0;34m\u001B[0m\u001B[0;34m\u001B[0m\u001B[0m\n\u001B[1;32m   6716\u001B[0m \u001B[0;34m\u001B[0m\u001B[0m\n\u001B[0;32m-> 6717\u001B[0;31m         return DataFrameGroupBy(\n\u001B[0m\u001B[1;32m   6718\u001B[0m             \u001B[0mobj\u001B[0m\u001B[0;34m=\u001B[0m\u001B[0mself\u001B[0m\u001B[0;34m,\u001B[0m\u001B[0;34m\u001B[0m\u001B[0;34m\u001B[0m\u001B[0m\n\u001B[1;32m   6719\u001B[0m             \u001B[0mkeys\u001B[0m\u001B[0;34m=\u001B[0m\u001B[0mby\u001B[0m\u001B[0;34m,\u001B[0m\u001B[0;34m\u001B[0m\u001B[0;34m\u001B[0m\u001B[0m\n",
      "\u001B[0;32m~/PycharmProjects/Firebase-events-analysis/venv/lib/python3.8/site-packages/pandas/core/groupby/groupby.py\u001B[0m in \u001B[0;36m__init__\u001B[0;34m(self, obj, keys, axis, level, grouper, exclusions, selection, as_index, sort, group_keys, squeeze, observed, mutated, dropna)\u001B[0m\n\u001B[1;32m    558\u001B[0m             \u001B[0;32mfrom\u001B[0m \u001B[0mpandas\u001B[0m\u001B[0;34m.\u001B[0m\u001B[0mcore\u001B[0m\u001B[0;34m.\u001B[0m\u001B[0mgroupby\u001B[0m\u001B[0;34m.\u001B[0m\u001B[0mgrouper\u001B[0m \u001B[0;32mimport\u001B[0m \u001B[0mget_grouper\u001B[0m\u001B[0;34m\u001B[0m\u001B[0;34m\u001B[0m\u001B[0m\n\u001B[1;32m    559\u001B[0m \u001B[0;34m\u001B[0m\u001B[0m\n\u001B[0;32m--> 560\u001B[0;31m             grouper, exclusions, obj = get_grouper(\n\u001B[0m\u001B[1;32m    561\u001B[0m                 \u001B[0mobj\u001B[0m\u001B[0;34m,\u001B[0m\u001B[0;34m\u001B[0m\u001B[0;34m\u001B[0m\u001B[0m\n\u001B[1;32m    562\u001B[0m                 \u001B[0mkeys\u001B[0m\u001B[0;34m,\u001B[0m\u001B[0;34m\u001B[0m\u001B[0;34m\u001B[0m\u001B[0m\n",
      "\u001B[0;32m~/PycharmProjects/Firebase-events-analysis/venv/lib/python3.8/site-packages/pandas/core/groupby/grouper.py\u001B[0m in \u001B[0;36mget_grouper\u001B[0;34m(obj, key, axis, level, sort, observed, mutated, validate, dropna)\u001B[0m\n\u001B[1;32m    809\u001B[0m                 \u001B[0min_axis\u001B[0m\u001B[0;34m,\u001B[0m \u001B[0mname\u001B[0m\u001B[0;34m,\u001B[0m \u001B[0mlevel\u001B[0m\u001B[0;34m,\u001B[0m \u001B[0mgpr\u001B[0m \u001B[0;34m=\u001B[0m \u001B[0;32mFalse\u001B[0m\u001B[0;34m,\u001B[0m \u001B[0;32mNone\u001B[0m\u001B[0;34m,\u001B[0m \u001B[0mgpr\u001B[0m\u001B[0;34m,\u001B[0m \u001B[0;32mNone\u001B[0m\u001B[0;34m\u001B[0m\u001B[0;34m\u001B[0m\u001B[0m\n\u001B[1;32m    810\u001B[0m             \u001B[0;32melse\u001B[0m\u001B[0;34m:\u001B[0m\u001B[0;34m\u001B[0m\u001B[0;34m\u001B[0m\u001B[0m\n\u001B[0;32m--> 811\u001B[0;31m                 \u001B[0;32mraise\u001B[0m \u001B[0mKeyError\u001B[0m\u001B[0;34m(\u001B[0m\u001B[0mgpr\u001B[0m\u001B[0;34m)\u001B[0m\u001B[0;34m\u001B[0m\u001B[0;34m\u001B[0m\u001B[0m\n\u001B[0m\u001B[1;32m    812\u001B[0m         \u001B[0;32melif\u001B[0m \u001B[0misinstance\u001B[0m\u001B[0;34m(\u001B[0m\u001B[0mgpr\u001B[0m\u001B[0;34m,\u001B[0m \u001B[0mGrouper\u001B[0m\u001B[0;34m)\u001B[0m \u001B[0;32mand\u001B[0m \u001B[0mgpr\u001B[0m\u001B[0;34m.\u001B[0m\u001B[0mkey\u001B[0m \u001B[0;32mis\u001B[0m \u001B[0;32mnot\u001B[0m \u001B[0;32mNone\u001B[0m\u001B[0;34m:\u001B[0m\u001B[0;34m\u001B[0m\u001B[0;34m\u001B[0m\u001B[0m\n\u001B[1;32m    813\u001B[0m             \u001B[0;31m# Add key to exclusions\u001B[0m\u001B[0;34m\u001B[0m\u001B[0;34m\u001B[0m\u001B[0;34m\u001B[0m\u001B[0m\n",
      "\u001B[0;31mKeyError\u001B[0m: 'event_timestamp'"
     ]
    }
   ],
   "source": [
    "# UK User engagement plot\n",
    "london_data = get_data_for_study(project_grouped_df_agg,\n",
    "                                    LONDON_UK,\n",
    "                                    {'engagement_time_sum_min' : 'sum', 'user_pseudo_id_count': 'sum'})\n",
    "london_data['engagement_per_user'] = london_data['engagement_time_sum_min'] / london_data['user_pseudo_id_count']\n",
    "\n",
    "plot_for_study(london_data,\n",
    "               'engagement_per_user',\n",
    "               'London, UK',\n",
    "               'User enagement/ User (minutes)',\n",
    "               '2020-03-21',\n",
    "               '2020-03-24',\n",
    "               ylim_min = 6,\n",
    "               ylim_max = 23)"
   ]
  },
  {
   "cell_type": "code",
   "execution_count": 93,
   "metadata": {},
   "outputs": [
    {
     "ename": "SyntaxError",
     "evalue": "unexpected EOF while parsing (<ipython-input-93-27fc52268a7f>, line 3)",
     "output_type": "error",
     "traceback": [
      "\u001B[0;36m  File \u001B[0;32m\"<ipython-input-93-27fc52268a7f>\"\u001B[0;36m, line \u001B[0;32m3\u001B[0m\n\u001B[0;31m    \u001B[0m\n\u001B[0m    ^\u001B[0m\n\u001B[0;31mSyntaxError\u001B[0m\u001B[0;31m:\u001B[0m unexpected EOF while parsing\n"
     ]
    }
   ],
   "source": [
    "def aggregate_percent_open(x):\n",
    "    "
   ]
  },
  {
   "cell_type": "code",
   "execution_count": 94,
   "metadata": {},
   "outputs": [
    {
     "ename": "KeyError",
     "evalue": "'event_timestamp'",
     "output_type": "error",
     "traceback": [
      "\u001B[0;31m---------------------------------------------------------------------------\u001B[0m",
      "\u001B[0;31mKeyError\u001B[0m                                  Traceback (most recent call last)",
      "\u001B[0;32m<ipython-input-94-a82425925907>\u001B[0m in \u001B[0;36m<module>\u001B[0;34m\u001B[0m\n\u001B[1;32m      1\u001B[0m \u001B[0;31m# UK number of opened notifications per user plot\u001B[0m\u001B[0;34m\u001B[0m\u001B[0;34m\u001B[0m\u001B[0;34m\u001B[0m\u001B[0m\n\u001B[0;32m----> 2\u001B[0;31m london_notif_data = get_data_for_study(project_grouped_notif_df_agg,\n\u001B[0m\u001B[1;32m      3\u001B[0m                                     \u001B[0mLONDON_UK\u001B[0m\u001B[0;34m,\u001B[0m\u001B[0;34m\u001B[0m\u001B[0;34m\u001B[0m\u001B[0m\n\u001B[1;32m      4\u001B[0m                                     {'notif_open_count' : 'sum', 'user_pseudo_id_count': 'sum'})\n\u001B[1;32m      5\u001B[0m london_notif_received_data = get_data_for_study(project_grouped_notifs_received_df_agg,\n",
      "\u001B[0;32m<ipython-input-91-e4aad1a27a9f>\u001B[0m in \u001B[0;36mget_data_for_study\u001B[0;34m(grouped_data, study_names, aggregations, days_to_add)\u001B[0m\n\u001B[1;32m      5\u001B[0m     \u001B[0mdata\u001B[0m \u001B[0;34m=\u001B[0m \u001B[0mgrouped_data\u001B[0m\u001B[0;34m.\u001B[0m\u001B[0mloc\u001B[0m\u001B[0;34m[\u001B[0m\u001B[0mstudy_names\u001B[0m\u001B[0;34m,\u001B[0m \u001B[0;34m:\u001B[0m\u001B[0;34m]\u001B[0m\u001B[0;34m\u001B[0m\u001B[0;34m\u001B[0m\u001B[0m\n\u001B[1;32m      6\u001B[0m     \u001B[0mdata\u001B[0m \u001B[0;34m=\u001B[0m \u001B[0mdata\u001B[0m\u001B[0;34m.\u001B[0m\u001B[0mreset_index\u001B[0m\u001B[0;34m(\u001B[0m\u001B[0mlevel\u001B[0m\u001B[0;34m=\u001B[0m\u001B[0;34m'projectId'\u001B[0m\u001B[0;34m)\u001B[0m\u001B[0;34m\u001B[0m\u001B[0;34m\u001B[0m\u001B[0m\n\u001B[0;32m----> 7\u001B[0;31m     \u001B[0mdata_agg\u001B[0m \u001B[0;34m=\u001B[0m \u001B[0mdata\u001B[0m\u001B[0;34m.\u001B[0m\u001B[0mgroupby\u001B[0m\u001B[0;34m(\u001B[0m\u001B[0;34m'event_timestamp'\u001B[0m\u001B[0;34m)\u001B[0m\u001B[0;34m.\u001B[0m\u001B[0magg\u001B[0m\u001B[0;34m(\u001B[0m\u001B[0maggregations\u001B[0m\u001B[0;34m)\u001B[0m\u001B[0;34m\u001B[0m\u001B[0;34m\u001B[0m\u001B[0m\n\u001B[0m\u001B[1;32m      8\u001B[0m     \u001B[0mdata_agg\u001B[0m\u001B[0;34m.\u001B[0m\u001B[0mindex\u001B[0m \u001B[0;34m=\u001B[0m \u001B[0mdata_agg\u001B[0m\u001B[0;34m.\u001B[0m\u001B[0mindex\u001B[0m \u001B[0;34m+\u001B[0m \u001B[0mdatetime\u001B[0m\u001B[0;34m.\u001B[0m\u001B[0mtimedelta\u001B[0m\u001B[0;34m(\u001B[0m\u001B[0mdays\u001B[0m\u001B[0;34m=\u001B[0m\u001B[0mdays_to_add\u001B[0m\u001B[0;34m)\u001B[0m\u001B[0;34m\u001B[0m\u001B[0;34m\u001B[0m\u001B[0m\n\u001B[1;32m      9\u001B[0m     \u001B[0;32mreturn\u001B[0m \u001B[0mdata_agg\u001B[0m\u001B[0;34m\u001B[0m\u001B[0;34m\u001B[0m\u001B[0m\n",
      "\u001B[0;32m~/PycharmProjects/Firebase-events-analysis/venv/lib/python3.8/site-packages/pandas/core/frame.py\u001B[0m in \u001B[0;36mgroupby\u001B[0;34m(self, by, axis, level, as_index, sort, group_keys, squeeze, observed, dropna)\u001B[0m\n\u001B[1;32m   6715\u001B[0m         \u001B[0maxis\u001B[0m \u001B[0;34m=\u001B[0m \u001B[0mself\u001B[0m\u001B[0;34m.\u001B[0m\u001B[0m_get_axis_number\u001B[0m\u001B[0;34m(\u001B[0m\u001B[0maxis\u001B[0m\u001B[0;34m)\u001B[0m\u001B[0;34m\u001B[0m\u001B[0;34m\u001B[0m\u001B[0m\n\u001B[1;32m   6716\u001B[0m \u001B[0;34m\u001B[0m\u001B[0m\n\u001B[0;32m-> 6717\u001B[0;31m         return DataFrameGroupBy(\n\u001B[0m\u001B[1;32m   6718\u001B[0m             \u001B[0mobj\u001B[0m\u001B[0;34m=\u001B[0m\u001B[0mself\u001B[0m\u001B[0;34m,\u001B[0m\u001B[0;34m\u001B[0m\u001B[0;34m\u001B[0m\u001B[0m\n\u001B[1;32m   6719\u001B[0m             \u001B[0mkeys\u001B[0m\u001B[0;34m=\u001B[0m\u001B[0mby\u001B[0m\u001B[0;34m,\u001B[0m\u001B[0;34m\u001B[0m\u001B[0;34m\u001B[0m\u001B[0m\n",
      "\u001B[0;32m~/PycharmProjects/Firebase-events-analysis/venv/lib/python3.8/site-packages/pandas/core/groupby/groupby.py\u001B[0m in \u001B[0;36m__init__\u001B[0;34m(self, obj, keys, axis, level, grouper, exclusions, selection, as_index, sort, group_keys, squeeze, observed, mutated, dropna)\u001B[0m\n\u001B[1;32m    558\u001B[0m             \u001B[0;32mfrom\u001B[0m \u001B[0mpandas\u001B[0m\u001B[0;34m.\u001B[0m\u001B[0mcore\u001B[0m\u001B[0;34m.\u001B[0m\u001B[0mgroupby\u001B[0m\u001B[0;34m.\u001B[0m\u001B[0mgrouper\u001B[0m \u001B[0;32mimport\u001B[0m \u001B[0mget_grouper\u001B[0m\u001B[0;34m\u001B[0m\u001B[0;34m\u001B[0m\u001B[0m\n\u001B[1;32m    559\u001B[0m \u001B[0;34m\u001B[0m\u001B[0m\n\u001B[0;32m--> 560\u001B[0;31m             grouper, exclusions, obj = get_grouper(\n\u001B[0m\u001B[1;32m    561\u001B[0m                 \u001B[0mobj\u001B[0m\u001B[0;34m,\u001B[0m\u001B[0;34m\u001B[0m\u001B[0;34m\u001B[0m\u001B[0m\n\u001B[1;32m    562\u001B[0m                 \u001B[0mkeys\u001B[0m\u001B[0;34m,\u001B[0m\u001B[0;34m\u001B[0m\u001B[0;34m\u001B[0m\u001B[0m\n",
      "\u001B[0;32m~/PycharmProjects/Firebase-events-analysis/venv/lib/python3.8/site-packages/pandas/core/groupby/grouper.py\u001B[0m in \u001B[0;36mget_grouper\u001B[0;34m(obj, key, axis, level, sort, observed, mutated, validate, dropna)\u001B[0m\n\u001B[1;32m    809\u001B[0m                 \u001B[0min_axis\u001B[0m\u001B[0;34m,\u001B[0m \u001B[0mname\u001B[0m\u001B[0;34m,\u001B[0m \u001B[0mlevel\u001B[0m\u001B[0;34m,\u001B[0m \u001B[0mgpr\u001B[0m \u001B[0;34m=\u001B[0m \u001B[0;32mFalse\u001B[0m\u001B[0;34m,\u001B[0m \u001B[0;32mNone\u001B[0m\u001B[0;34m,\u001B[0m \u001B[0mgpr\u001B[0m\u001B[0;34m,\u001B[0m \u001B[0;32mNone\u001B[0m\u001B[0;34m\u001B[0m\u001B[0;34m\u001B[0m\u001B[0m\n\u001B[1;32m    810\u001B[0m             \u001B[0;32melse\u001B[0m\u001B[0;34m:\u001B[0m\u001B[0;34m\u001B[0m\u001B[0;34m\u001B[0m\u001B[0m\n\u001B[0;32m--> 811\u001B[0;31m                 \u001B[0;32mraise\u001B[0m \u001B[0mKeyError\u001B[0m\u001B[0;34m(\u001B[0m\u001B[0mgpr\u001B[0m\u001B[0;34m)\u001B[0m\u001B[0;34m\u001B[0m\u001B[0;34m\u001B[0m\u001B[0m\n\u001B[0m\u001B[1;32m    812\u001B[0m         \u001B[0;32melif\u001B[0m \u001B[0misinstance\u001B[0m\u001B[0;34m(\u001B[0m\u001B[0mgpr\u001B[0m\u001B[0;34m,\u001B[0m \u001B[0mGrouper\u001B[0m\u001B[0;34m)\u001B[0m \u001B[0;32mand\u001B[0m \u001B[0mgpr\u001B[0m\u001B[0;34m.\u001B[0m\u001B[0mkey\u001B[0m \u001B[0;32mis\u001B[0m \u001B[0;32mnot\u001B[0m \u001B[0;32mNone\u001B[0m\u001B[0;34m:\u001B[0m\u001B[0;34m\u001B[0m\u001B[0;34m\u001B[0m\u001B[0m\n\u001B[1;32m    813\u001B[0m             \u001B[0;31m# Add key to exclusions\u001B[0m\u001B[0;34m\u001B[0m\u001B[0;34m\u001B[0m\u001B[0;34m\u001B[0m\u001B[0m\n",
      "\u001B[0;31mKeyError\u001B[0m: 'event_timestamp'"
     ]
    }
   ],
   "source": [
    "# UK number of opened notifications per user plot\n",
    "london_notif_data = get_data_for_study(project_grouped_notif_df_agg,\n",
    "                                    LONDON_UK,\n",
    "                                    {'notif_open_count' : 'sum', 'user_pseudo_id_count': 'sum'})\n",
    "london_notif_received_data = get_data_for_study(project_grouped_notifs_received_df_agg,\n",
    "                                    LONDON_UK,\n",
    "                                    {'notif_receive_count' : 'sum', 'user_pseudo_id_count': 'sum'})\n",
    "london_notif_data['notif_open_per_user'] = london_notif_data['notif_open_count'] / london_notif_data['user_pseudo_id_count']\n",
    "london_notif_data['percent_open'] = london_notif_data['notif_open_count'] / london_notif_received_data['notif_receive_count']\n",
    "plot_for_study(london_notif_data,\n",
    "               'notif_open_per_user',\n",
    "               'London, UK',\n",
    "               'Number of opened Notifications / User',\n",
    "               '2020-03-21',\n",
    "               '2020-03-24',\n",
    "               ylim_min = 2,\n",
    "               ylim_max = 9)"
   ]
  },
  {
   "cell_type": "code",
   "execution_count": null,
   "metadata": {},
   "outputs": [],
   "source": [
    "# UK percent of opened notifications vs received plot\n",
    "\n",
    "plot_for_study(london_notif_data,\n",
    "               'percent_open',\n",
    "               'London, UK',\n",
    "               'Percent of opened notifications vs received',\n",
    "               '2020-03-21',\n",
    "               '2020-03-24',\n",
    "               ylim_min = 0.3,\n",
    "               ylim_max = 0.5)"
   ]
  },
  {
   "cell_type": "code",
   "execution_count": null,
   "metadata": {},
   "outputs": [],
   "source": []
  },
  {
   "cell_type": "code",
   "execution_count": null,
   "metadata": {},
   "outputs": [],
   "source": [
    "# Spain User engagement plot\n",
    "barcelona_data = get_data_for_study(project_grouped_df_agg,\n",
    "                                    BARCELONA_SPAIN,\n",
    "                                    {'engagement_time_sum_min' : 'sum', 'user_pseudo_id_count': 'sum'})\n",
    "barcelona_data['engagement_per_user'] = barcelona_data['engagement_time_sum_min'] / barcelona_data['user_pseudo_id_count']\n",
    "\n",
    "plot_for_study(barcelona_data,\n",
    "               'engagement_per_user',\n",
    "               'Barcelona, Spain',\n",
    "               'User enagement/ User (minutes)',\n",
    "               '2020-03-09',\n",
    "               '2020-03-14',\n",
    "               ylim_min = 6,\n",
    "               ylim_max = 10)"
   ]
  },
  {
   "cell_type": "code",
   "execution_count": null,
   "metadata": {},
   "outputs": [],
   "source": [
    "# Spain number of opened notifications per user plot\n",
    "\n",
    "barcelona_notif_data = get_data_for_study(project_grouped_notif_df_agg,\n",
    "                                    BARCELONA_SPAIN,\n",
    "                                    {'notif_open_count' : 'sum', 'user_pseudo_id_count': 'sum'})\n",
    "barcelona_notif_received_data = get_data_for_study(project_grouped_notifs_received_df_agg,\n",
    "                                    BARCELONA_SPAIN,\n",
    "                                    {'notif_receive_count' : 'sum', 'user_pseudo_id_count': 'sum'})\n",
    "barcelona_notif_data['notif_open_per_user'] = barcelona_notif_data['notif_open_count'] / barcelona_notif_data['user_pseudo_id_count']\n",
    "barcelona_notif_data['percent_open'] = barcelona_notif_data['notif_open_count'] / barcelona_notif_received_data['notif_receive_count']\n",
    "plot_for_study(barcelona_notif_data,\n",
    "               'notif_open_per_user',\n",
    "               'Barcelona, Spain',\n",
    "               'Number of opened Notifications / User',\n",
    "               '2020-03-09',\n",
    "               '2020-03-14',\n",
    "               ylim_min = 2,\n",
    "               ylim_max = 2.5)\n"
   ]
  },
  {
   "cell_type": "code",
   "execution_count": null,
   "metadata": {},
   "outputs": [],
   "source": [
    "# Spain percent of opened notifications vs received plot\n",
    "plot_for_study(barcelona_notif_data,\n",
    "               'percent_open',\n",
    "               'Barcelona, Spain',\n",
    "               'Percent of opened notifications vs received',\n",
    "               '2020-03-09',\n",
    "               '2020-03-14',\n",
    "               ylim_min = 0.3,\n",
    "               ylim_max = 0.5)"
   ]
  },
  {
   "cell_type": "code",
   "execution_count": null,
   "metadata": {},
   "outputs": [],
   "source": []
  },
  {
   "cell_type": "code",
   "execution_count": null,
   "metadata": {},
   "outputs": [],
   "source": [
    "# Denmark User engagement plot\n",
    "copenhagen_data = get_data_for_study(project_grouped_df_agg,\n",
    "                                    COPENHAGEN_DENMARK,\n",
    "                                    {'engagement_time_sum_min' : 'sum', 'user_pseudo_id_count': 'sum'})\n",
    "copenhagen_data['engagement_per_user'] = copenhagen_data['engagement_time_sum_min'] / copenhagen_data['user_pseudo_id_count']\n",
    "\n",
    "plot_for_study(copenhagen_data,\n",
    "               'engagement_per_user',\n",
    "               'Copenhagen, Denmark',\n",
    "               'User enagement/ User (minutes)',\n",
    "               '2020-03-13',\n",
    "               '2020-03-19',\n",
    "               ylim_min = 4,\n",
    "               ylim_max = 8)"
   ]
  },
  {
   "cell_type": "code",
   "execution_count": null,
   "metadata": {},
   "outputs": [],
   "source": [
    "# Denmark number of opened notifications per user plot\n",
    "copenhagen_notif_data = get_data_for_study(project_grouped_notif_df_agg,\n",
    "                                    COPENHAGEN_DENMARK,\n",
    "                                    {'notif_open_count' : 'sum', 'user_pseudo_id_count': 'sum'})\n",
    "copenhagen_notif_received_data = get_data_for_study(project_grouped_notifs_received_df_agg,\n",
    "                                    COPENHAGEN_DENMARK,\n",
    "                                    {'notif_receive_count' : 'sum', 'user_pseudo_id_count': 'sum'})\n",
    "copenhagen_notif_data['notif_open_per_user'] = copenhagen_notif_data['notif_open_count'] / copenhagen_notif_data['user_pseudo_id_count']\n",
    "copenhagen_notif_data['percent_open'] = copenhagen_notif_data['notif_open_count'] / copenhagen_notif_received_data['notif_receive_count']\n",
    "plot_for_study(copenhagen_notif_data,\n",
    "               'notif_open_per_user',\n",
    "               'Copenhagen, Denmark',\n",
    "               'Number of opened Notifications / User',\n",
    "               '2020-03-13',\n",
    "               '2020-03-19',\n",
    "               ylim_min = 1.5,\n",
    "               ylim_max = 3.5)"
   ]
  },
  {
   "cell_type": "code",
   "execution_count": null,
   "metadata": {},
   "outputs": [],
   "source": [
    "# Denmark percent of opened notifications vs received plot\n",
    "plot_for_study(copenhagen_notif_data,\n",
    "               'percent_open',\n",
    "               'Copenhagen, Denmark',\n",
    "               'Percent of opened notifications vs received',\n",
    "               '2020-03-13',\n",
    "               '2020-03-19',\n",
    "               ylim_min = 0.2,\n",
    "               ylim_max = 0.5)"
   ]
  },
  {
   "cell_type": "code",
   "execution_count": null,
   "metadata": {},
   "outputs": [],
   "source": [
    "# Italy User engagement plot\n",
    "milan_data = get_data_for_study(project_grouped_df_agg,\n",
    "                                    MILAN_ITALY,\n",
    "                                    {'engagement_time_sum_min' : 'sum', 'user_pseudo_id_count': 'sum'})\n",
    "milan_data['engagement_per_user'] = milan_data['engagement_time_sum_min'] / milan_data['user_pseudo_id_count']\n",
    "\n",
    "plot_for_study(milan_data,\n",
    "               'engagement_per_user',\n",
    "               'Milan, Italy',\n",
    "               'User enagement/ User (minutes)',\n",
    "               '2020-02-22',\n",
    "               '2020-03-10',\n",
    "               ylim_min = 4,\n",
    "               ylim_max = 10)"
   ]
  },
  {
   "cell_type": "code",
   "execution_count": null,
   "metadata": {},
   "outputs": [],
   "source": [
    "# Italy number of opened notifications per user plot\n",
    "milan_notif_data = get_data_for_study(project_grouped_notif_df_agg,\n",
    "                                    MILAN_ITALY,\n",
    "                                    {'notif_open_count' : 'sum', 'user_pseudo_id_count': 'sum'})\n",
    "milan_notif_received_data = get_data_for_study(project_grouped_notifs_received_df_agg,\n",
    "                                    MILAN_ITALY,\n",
    "                                    {'notif_receive_count' : 'sum', 'user_pseudo_id_count': 'sum'})\n",
    "milan_notif_data['notif_open_per_user'] = milan_notif_data['notif_open_count'] / milan_notif_data['user_pseudo_id_count']\n",
    "milan_notif_data['percent_open'] = milan_notif_data['notif_open_count'] / milan_notif_received_data['notif_receive_count']\n",
    "plot_for_study(milan_notif_data,\n",
    "               'notif_open_per_user',\n",
    "               'Milan, Italy',\n",
    "               'Number of opened Notifications / User',\n",
    "               '2020-02-22',\n",
    "               '2020-03-10',\n",
    "               ylim_min = 2,\n",
    "               ylim_max = 3)"
   ]
  },
  {
   "cell_type": "code",
   "execution_count": null,
   "metadata": {},
   "outputs": [],
   "source": [
    "# Italy percent of opened notifications vs received plot\n",
    "\n",
    "plot_for_study(milan_notif_data,\n",
    "               'percent_open',\n",
    "               'Milan, Italy',\n",
    "               'Percent of opened notifications vs received',\n",
    "               '2020-02-22',\n",
    "               '2020-03-10',\n",
    "               ylim_min = 0.2,\n",
    "               ylim_max = 0.5)"
   ]
  }
 ],
 "metadata": {
  "kernelspec": {
   "display_name": "Python 3",
   "language": "python",
   "name": "python3"
  },
  "language_info": {
   "codemirror_mode": {
    "name": "ipython",
    "version": 3
   },
   "file_extension": ".py",
   "mimetype": "text/x-python",
   "name": "python",
   "nbconvert_exporter": "python",
   "pygments_lexer": "ipython3",
   "version": "3.8.5"
  }
 },
 "nbformat": 4,
 "nbformat_minor": 1
}